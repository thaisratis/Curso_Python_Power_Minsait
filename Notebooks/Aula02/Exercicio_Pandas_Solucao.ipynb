{
 "cells": [
  {
   "cell_type": "markdown",
   "id": "ffcb22fd",
   "metadata": {},
   "source": [
    "# Exercício"
   ]
  },
  {
   "cell_type": "markdown",
   "id": "6d0f5db4",
   "metadata": {},
   "source": [
    "**Arquivo Exercicio_Pandas_1.csv**\n",
    "1. Carregue um arquivo CSV contendo dados de uma planilha e crie um DataFrame com o Pandas.\n",
    "   \n",
    "2. Exiba as primeiras linhas do DataFrame para verificar os dados que foram carregados.\n",
    "3. Verifique o número de linhas e colunas presentes no DataFrame.\n",
    "4. Utilize o método `info()` para obter informações sobre os tipos de dados e a contagem de valores não nulos em cada coluna.\n",
    "5. Selecione uma coluna específica do DataFrame e exiba suas estatísticas básicas usando o método `describe()`.\n",
    "6. Faça uma filtragem no DataFrame para exibir apenas as linhas que atendam a determinada condição.\n",
    "7. Crie uma nova coluna no DataFrame, calculando-a com base em outras colunas existentes.\n",
    "8. Agrupe o DataFrame com base em uma coluna específica e realize uma operação de agregação, como soma, média ou contagem.\n",
    "9.  Utilize a função `apply()` para aplicar uma função personalizada a uma coluna ou linha do DataFrame.\n",
    "10. Faça uma ordenação dos dados em ordem crescente ou decrescente com base em uma coluna específica.\n",
    "11. Utilize o recurso de indexação booleana para filtrar o DataFrame com base em várias condições.\n",
    "    \n",
    "**Arquivo Exercicio_Pandas_2.json**\n",
    "1.  Carregue um conjunto de dados complexo (por exemplo, de um arquivo JSON ou um banco de dados SQL) e crie um DataFrame usando o Pandas.\n",
    "   \n",
    "2.  Utilize técnicas de indexação avançada para selecionar, filtrar e modificar dados em um DataFrame.\n",
    "   \n",
    "**Arquivos Exercicio_Pandas_2.json e Exercicio_Pandas_3.csv**\n",
    "1.  Combine dois DataFrames usando operações de junção (merge) ou concatenação.\n",
    "   \n",
    "2.  Utilize o método `groupby()` para agrupar os dados por múltiplas colunas e realizar operações de agregação em grupos."
   ]
  },
  {
   "cell_type": "code",
   "execution_count": 3,
   "id": "bb3bf4a4",
   "metadata": {},
   "outputs": [],
   "source": [
    "import pandas as pd"
   ]
  },
  {
   "cell_type": "code",
   "execution_count": 4,
   "id": "adbbe73f",
   "metadata": {},
   "outputs": [
    {
     "data": {
      "text/html": [
       "<div>\n",
       "<style scoped>\n",
       "    .dataframe tbody tr th:only-of-type {\n",
       "        vertical-align: middle;\n",
       "    }\n",
       "\n",
       "    .dataframe tbody tr th {\n",
       "        vertical-align: top;\n",
       "    }\n",
       "\n",
       "    .dataframe thead th {\n",
       "        text-align: right;\n",
       "    }\n",
       "</style>\n",
       "<table border=\"1\" class=\"dataframe\">\n",
       "  <thead>\n",
       "    <tr style=\"text-align: right;\">\n",
       "      <th></th>\n",
       "      <th>Nome</th>\n",
       "      <th>Idade</th>\n",
       "      <th>Cidade</th>\n",
       "    </tr>\n",
       "  </thead>\n",
       "  <tbody>\n",
       "    <tr>\n",
       "      <th>0</th>\n",
       "      <td>Alice</td>\n",
       "      <td>25</td>\n",
       "      <td>São Paulo</td>\n",
       "    </tr>\n",
       "    <tr>\n",
       "      <th>1</th>\n",
       "      <td>Bob</td>\n",
       "      <td>30</td>\n",
       "      <td>Rio de Janeiro</td>\n",
       "    </tr>\n",
       "    <tr>\n",
       "      <th>2</th>\n",
       "      <td>Carol</td>\n",
       "      <td>22</td>\n",
       "      <td>Belo Horizonte</td>\n",
       "    </tr>\n",
       "    <tr>\n",
       "      <th>3</th>\n",
       "      <td>David</td>\n",
       "      <td>27</td>\n",
       "      <td>Salvador</td>\n",
       "    </tr>\n",
       "    <tr>\n",
       "      <th>4</th>\n",
       "      <td>Eva</td>\n",
       "      <td>68</td>\n",
       "      <td>Porto Alegre</td>\n",
       "    </tr>\n",
       "  </tbody>\n",
       "</table>\n",
       "</div>"
      ],
      "text/plain": [
       "    Nome  Idade          Cidade\n",
       "0  Alice     25       São Paulo\n",
       "1    Bob     30  Rio de Janeiro\n",
       "2  Carol     22  Belo Horizonte\n",
       "3  David     27        Salvador\n",
       "4    Eva     68    Porto Alegre"
      ]
     },
     "execution_count": 4,
     "metadata": {},
     "output_type": "execute_result"
    }
   ],
   "source": [
    "# 1. Carregue um arquivo CSV contendo dados de uma planilha e crie um DataFrame com o Pandas.\n",
    "# 2. Exiba as primeiras linhas do DataFrame para verificar os dados que foram carregados.\n",
    "df = pd.read_csv('../../Datasets/Exercicio_Pandas_1.csv', sep = '\\t')\n",
    "df.head()"
   ]
  },
  {
   "cell_type": "code",
   "execution_count": 5,
   "id": "939b2052",
   "metadata": {},
   "outputs": [
    {
     "data": {
      "text/plain": [
       "(5, 3)"
      ]
     },
     "execution_count": 5,
     "metadata": {},
     "output_type": "execute_result"
    }
   ],
   "source": [
    "# 3. Verifique o número de linhas e colunas presentes no DataFrame.\n",
    "df.shape"
   ]
  },
  {
   "cell_type": "code",
   "execution_count": 6,
   "id": "cc5365bd",
   "metadata": {},
   "outputs": [
    {
     "name": "stdout",
     "output_type": "stream",
     "text": [
      "<class 'pandas.core.frame.DataFrame'>\n",
      "RangeIndex: 5 entries, 0 to 4\n",
      "Data columns (total 3 columns):\n",
      " #   Column  Non-Null Count  Dtype \n",
      "---  ------  --------------  ----- \n",
      " 0   Nome    5 non-null      object\n",
      " 1   Idade   5 non-null      int64 \n",
      " 2   Cidade  5 non-null      object\n",
      "dtypes: int64(1), object(2)\n",
      "memory usage: 248.0+ bytes\n"
     ]
    }
   ],
   "source": [
    "# 4. Utilize o método `info()` para obter informações sobre os tipos de dados e a contagem de valores não nulos em cada coluna.\n",
    "df.info()"
   ]
  },
  {
   "cell_type": "code",
   "execution_count": 7,
   "id": "6042cb8b",
   "metadata": {},
   "outputs": [
    {
     "data": {
      "text/plain": [
       "count     5.000000\n",
       "mean     34.400000\n",
       "std      19.007893\n",
       "min      22.000000\n",
       "25%      25.000000\n",
       "50%      27.000000\n",
       "75%      30.000000\n",
       "max      68.000000\n",
       "Name: Idade, dtype: float64"
      ]
     },
     "execution_count": 7,
     "metadata": {},
     "output_type": "execute_result"
    }
   ],
   "source": [
    "# 5. Selecione uma coluna específica do DataFrame e exiba suas estatísticas básicas usando o método `describe()`.\n",
    "df['Idade'].describe()"
   ]
  },
  {
   "cell_type": "code",
   "execution_count": 8,
   "id": "c25f336f",
   "metadata": {},
   "outputs": [
    {
     "data": {
      "text/html": [
       "<div>\n",
       "<style scoped>\n",
       "    .dataframe tbody tr th:only-of-type {\n",
       "        vertical-align: middle;\n",
       "    }\n",
       "\n",
       "    .dataframe tbody tr th {\n",
       "        vertical-align: top;\n",
       "    }\n",
       "\n",
       "    .dataframe thead th {\n",
       "        text-align: right;\n",
       "    }\n",
       "</style>\n",
       "<table border=\"1\" class=\"dataframe\">\n",
       "  <thead>\n",
       "    <tr style=\"text-align: right;\">\n",
       "      <th></th>\n",
       "      <th>Nome</th>\n",
       "      <th>Idade</th>\n",
       "      <th>Cidade</th>\n",
       "    </tr>\n",
       "  </thead>\n",
       "  <tbody>\n",
       "    <tr>\n",
       "      <th>0</th>\n",
       "      <td>Alice</td>\n",
       "      <td>25</td>\n",
       "      <td>São Paulo</td>\n",
       "    </tr>\n",
       "    <tr>\n",
       "      <th>1</th>\n",
       "      <td>Bob</td>\n",
       "      <td>30</td>\n",
       "      <td>Rio de Janeiro</td>\n",
       "    </tr>\n",
       "    <tr>\n",
       "      <th>3</th>\n",
       "      <td>David</td>\n",
       "      <td>27</td>\n",
       "      <td>Salvador</td>\n",
       "    </tr>\n",
       "    <tr>\n",
       "      <th>4</th>\n",
       "      <td>Eva</td>\n",
       "      <td>68</td>\n",
       "      <td>Porto Alegre</td>\n",
       "    </tr>\n",
       "  </tbody>\n",
       "</table>\n",
       "</div>"
      ],
      "text/plain": [
       "    Nome  Idade          Cidade\n",
       "0  Alice     25       São Paulo\n",
       "1    Bob     30  Rio de Janeiro\n",
       "3  David     27        Salvador\n",
       "4    Eva     68    Porto Alegre"
      ]
     },
     "execution_count": 8,
     "metadata": {},
     "output_type": "execute_result"
    }
   ],
   "source": [
    "# 6. Faça uma filtragem no DataFrame para exibir apenas as linhas que atendam a determinada condição.\n",
    "filtro = df['Idade'] >= 25\n",
    "df[filtro]"
   ]
  },
  {
   "cell_type": "code",
   "execution_count": 9,
   "id": "c19f519c",
   "metadata": {},
   "outputs": [
    {
     "data": {
      "text/html": [
       "<div>\n",
       "<style scoped>\n",
       "    .dataframe tbody tr th:only-of-type {\n",
       "        vertical-align: middle;\n",
       "    }\n",
       "\n",
       "    .dataframe tbody tr th {\n",
       "        vertical-align: top;\n",
       "    }\n",
       "\n",
       "    .dataframe thead th {\n",
       "        text-align: right;\n",
       "    }\n",
       "</style>\n",
       "<table border=\"1\" class=\"dataframe\">\n",
       "  <thead>\n",
       "    <tr style=\"text-align: right;\">\n",
       "      <th></th>\n",
       "      <th>Nome</th>\n",
       "      <th>Idade</th>\n",
       "      <th>Cidade</th>\n",
       "      <th>Ano_Nascimento</th>\n",
       "    </tr>\n",
       "  </thead>\n",
       "  <tbody>\n",
       "    <tr>\n",
       "      <th>0</th>\n",
       "      <td>Alice</td>\n",
       "      <td>25</td>\n",
       "      <td>São Paulo</td>\n",
       "      <td>1998</td>\n",
       "    </tr>\n",
       "    <tr>\n",
       "      <th>1</th>\n",
       "      <td>Bob</td>\n",
       "      <td>30</td>\n",
       "      <td>Rio de Janeiro</td>\n",
       "      <td>1993</td>\n",
       "    </tr>\n",
       "    <tr>\n",
       "      <th>2</th>\n",
       "      <td>Carol</td>\n",
       "      <td>22</td>\n",
       "      <td>Belo Horizonte</td>\n",
       "      <td>2001</td>\n",
       "    </tr>\n",
       "    <tr>\n",
       "      <th>3</th>\n",
       "      <td>David</td>\n",
       "      <td>27</td>\n",
       "      <td>Salvador</td>\n",
       "      <td>1996</td>\n",
       "    </tr>\n",
       "    <tr>\n",
       "      <th>4</th>\n",
       "      <td>Eva</td>\n",
       "      <td>68</td>\n",
       "      <td>Porto Alegre</td>\n",
       "      <td>1955</td>\n",
       "    </tr>\n",
       "  </tbody>\n",
       "</table>\n",
       "</div>"
      ],
      "text/plain": [
       "    Nome  Idade          Cidade  Ano_Nascimento\n",
       "0  Alice     25       São Paulo            1998\n",
       "1    Bob     30  Rio de Janeiro            1993\n",
       "2  Carol     22  Belo Horizonte            2001\n",
       "3  David     27        Salvador            1996\n",
       "4    Eva     68    Porto Alegre            1955"
      ]
     },
     "execution_count": 9,
     "metadata": {},
     "output_type": "execute_result"
    }
   ],
   "source": [
    "# 7. Crie uma nova coluna no DataFrame, calculando-a com base em outras colunas existentes.\n",
    "df['Ano_Nascimento'] = 2023 - df['Idade']\n",
    "df"
   ]
  },
  {
   "cell_type": "code",
   "execution_count": 10,
   "id": "82475401",
   "metadata": {},
   "outputs": [
    {
     "data": {
      "text/plain": [
       "Cidade\n",
       "Belo Horizonte    22.0\n",
       "Porto Alegre      68.0\n",
       "Rio de Janeiro    30.0\n",
       "Salvador          27.0\n",
       "São Paulo         25.0\n",
       "Name: Idade, dtype: float64"
      ]
     },
     "execution_count": 10,
     "metadata": {},
     "output_type": "execute_result"
    }
   ],
   "source": [
    "# 8. Agrupe o DataFrame com base em uma coluna específica e realize uma operação de agregação, como soma, média ou contagem.\n",
    "grupo_cidade = df.groupby('Cidade')['Idade'].mean()\n",
    "grupo_cidade"
   ]
  },
  {
   "cell_type": "code",
   "execution_count": 11,
   "id": "798877ca",
   "metadata": {},
   "outputs": [
    {
     "data": {
      "text/html": [
       "<div>\n",
       "<style scoped>\n",
       "    .dataframe tbody tr th:only-of-type {\n",
       "        vertical-align: middle;\n",
       "    }\n",
       "\n",
       "    .dataframe tbody tr th {\n",
       "        vertical-align: top;\n",
       "    }\n",
       "\n",
       "    .dataframe thead th {\n",
       "        text-align: right;\n",
       "    }\n",
       "</style>\n",
       "<table border=\"1\" class=\"dataframe\">\n",
       "  <thead>\n",
       "    <tr style=\"text-align: right;\">\n",
       "      <th></th>\n",
       "      <th>Nome</th>\n",
       "      <th>Idade</th>\n",
       "      <th>Cidade</th>\n",
       "      <th>Ano_Nascimento</th>\n",
       "      <th>Classificacao</th>\n",
       "    </tr>\n",
       "  </thead>\n",
       "  <tbody>\n",
       "    <tr>\n",
       "      <th>0</th>\n",
       "      <td>Alice</td>\n",
       "      <td>25</td>\n",
       "      <td>São Paulo</td>\n",
       "      <td>1998</td>\n",
       "      <td>Adulto</td>\n",
       "    </tr>\n",
       "    <tr>\n",
       "      <th>1</th>\n",
       "      <td>Bob</td>\n",
       "      <td>30</td>\n",
       "      <td>Rio de Janeiro</td>\n",
       "      <td>1993</td>\n",
       "      <td>Adulto</td>\n",
       "    </tr>\n",
       "    <tr>\n",
       "      <th>2</th>\n",
       "      <td>Carol</td>\n",
       "      <td>22</td>\n",
       "      <td>Belo Horizonte</td>\n",
       "      <td>2001</td>\n",
       "      <td>Jovem</td>\n",
       "    </tr>\n",
       "    <tr>\n",
       "      <th>3</th>\n",
       "      <td>David</td>\n",
       "      <td>27</td>\n",
       "      <td>Salvador</td>\n",
       "      <td>1996</td>\n",
       "      <td>Adulto</td>\n",
       "    </tr>\n",
       "    <tr>\n",
       "      <th>4</th>\n",
       "      <td>Eva</td>\n",
       "      <td>68</td>\n",
       "      <td>Porto Alegre</td>\n",
       "      <td>1955</td>\n",
       "      <td>Idoso</td>\n",
       "    </tr>\n",
       "  </tbody>\n",
       "</table>\n",
       "</div>"
      ],
      "text/plain": [
       "    Nome  Idade          Cidade  Ano_Nascimento Classificacao\n",
       "0  Alice     25       São Paulo            1998        Adulto\n",
       "1    Bob     30  Rio de Janeiro            1993        Adulto\n",
       "2  Carol     22  Belo Horizonte            2001         Jovem\n",
       "3  David     27        Salvador            1996        Adulto\n",
       "4    Eva     68    Porto Alegre            1955         Idoso"
      ]
     },
     "execution_count": 11,
     "metadata": {},
     "output_type": "execute_result"
    }
   ],
   "source": [
    "# 9.  Utilize a função `apply()` para aplicar uma função personalizada a uma coluna ou linha do DataFrame.\n",
    "def classificar_idade(idade):\n",
    "    if idade < 25:\n",
    "        return 'Jovem'\n",
    "    elif idade < 60:\n",
    "        return 'Adulto'\n",
    "    else:\n",
    "        return 'Idoso'\n",
    "\n",
    "df['Classificacao'] = df['Idade'].apply(classificar_idade)\n",
    "df"
   ]
  },
  {
   "cell_type": "code",
   "execution_count": 12,
   "id": "f9d61256",
   "metadata": {},
   "outputs": [
    {
     "data": {
      "text/html": [
       "<div>\n",
       "<style scoped>\n",
       "    .dataframe tbody tr th:only-of-type {\n",
       "        vertical-align: middle;\n",
       "    }\n",
       "\n",
       "    .dataframe tbody tr th {\n",
       "        vertical-align: top;\n",
       "    }\n",
       "\n",
       "    .dataframe thead th {\n",
       "        text-align: right;\n",
       "    }\n",
       "</style>\n",
       "<table border=\"1\" class=\"dataframe\">\n",
       "  <thead>\n",
       "    <tr style=\"text-align: right;\">\n",
       "      <th></th>\n",
       "      <th>Nome</th>\n",
       "      <th>Idade</th>\n",
       "      <th>Cidade</th>\n",
       "      <th>Ano_Nascimento</th>\n",
       "      <th>Classificacao</th>\n",
       "    </tr>\n",
       "  </thead>\n",
       "  <tbody>\n",
       "    <tr>\n",
       "      <th>2</th>\n",
       "      <td>Carol</td>\n",
       "      <td>22</td>\n",
       "      <td>Belo Horizonte</td>\n",
       "      <td>2001</td>\n",
       "      <td>Jovem</td>\n",
       "    </tr>\n",
       "    <tr>\n",
       "      <th>0</th>\n",
       "      <td>Alice</td>\n",
       "      <td>25</td>\n",
       "      <td>São Paulo</td>\n",
       "      <td>1998</td>\n",
       "      <td>Adulto</td>\n",
       "    </tr>\n",
       "    <tr>\n",
       "      <th>3</th>\n",
       "      <td>David</td>\n",
       "      <td>27</td>\n",
       "      <td>Salvador</td>\n",
       "      <td>1996</td>\n",
       "      <td>Adulto</td>\n",
       "    </tr>\n",
       "    <tr>\n",
       "      <th>1</th>\n",
       "      <td>Bob</td>\n",
       "      <td>30</td>\n",
       "      <td>Rio de Janeiro</td>\n",
       "      <td>1993</td>\n",
       "      <td>Adulto</td>\n",
       "    </tr>\n",
       "    <tr>\n",
       "      <th>4</th>\n",
       "      <td>Eva</td>\n",
       "      <td>68</td>\n",
       "      <td>Porto Alegre</td>\n",
       "      <td>1955</td>\n",
       "      <td>Idoso</td>\n",
       "    </tr>\n",
       "  </tbody>\n",
       "</table>\n",
       "</div>"
      ],
      "text/plain": [
       "    Nome  Idade          Cidade  Ano_Nascimento Classificacao\n",
       "2  Carol     22  Belo Horizonte            2001         Jovem\n",
       "0  Alice     25       São Paulo            1998        Adulto\n",
       "3  David     27        Salvador            1996        Adulto\n",
       "1    Bob     30  Rio de Janeiro            1993        Adulto\n",
       "4    Eva     68    Porto Alegre            1955         Idoso"
      ]
     },
     "execution_count": 12,
     "metadata": {},
     "output_type": "execute_result"
    }
   ],
   "source": [
    "# 10. Faça uma ordenação dos dados em ordem crescente ou decrescente com base em uma coluna específica.\n",
    "df_sorted = df.sort_values(by='Idade', ascending=True)\n",
    "df_sorted"
   ]
  },
  {
   "cell_type": "code",
   "execution_count": 13,
   "id": "6009574d",
   "metadata": {},
   "outputs": [
    {
     "data": {
      "text/html": [
       "<div>\n",
       "<style scoped>\n",
       "    .dataframe tbody tr th:only-of-type {\n",
       "        vertical-align: middle;\n",
       "    }\n",
       "\n",
       "    .dataframe tbody tr th {\n",
       "        vertical-align: top;\n",
       "    }\n",
       "\n",
       "    .dataframe thead th {\n",
       "        text-align: right;\n",
       "    }\n",
       "</style>\n",
       "<table border=\"1\" class=\"dataframe\">\n",
       "  <thead>\n",
       "    <tr style=\"text-align: right;\">\n",
       "      <th></th>\n",
       "      <th>Nome</th>\n",
       "      <th>Idade</th>\n",
       "      <th>Cidade</th>\n",
       "      <th>Ano_Nascimento</th>\n",
       "      <th>Classificacao</th>\n",
       "    </tr>\n",
       "  </thead>\n",
       "  <tbody>\n",
       "    <tr>\n",
       "      <th>0</th>\n",
       "      <td>Alice</td>\n",
       "      <td>25</td>\n",
       "      <td>São Paulo</td>\n",
       "      <td>1998</td>\n",
       "      <td>Adulto</td>\n",
       "    </tr>\n",
       "  </tbody>\n",
       "</table>\n",
       "</div>"
      ],
      "text/plain": [
       "    Nome  Idade     Cidade  Ano_Nascimento Classificacao\n",
       "0  Alice     25  São Paulo            1998        Adulto"
      ]
     },
     "execution_count": 13,
     "metadata": {},
     "output_type": "execute_result"
    }
   ],
   "source": [
    "# 11. Utilize o recurso de indexação booleana para filtrar o DataFrame com base em várias condições.\n",
    "filtro = (df['Idade'] >= 25) & (df['Cidade'] == 'São Paulo')\n",
    "df_filtrado = df[filtro]\n",
    "df_filtrado"
   ]
  },
  {
   "cell_type": "code",
   "execution_count": 14,
   "id": "54eec60c",
   "metadata": {},
   "outputs": [
    {
     "data": {
      "text/html": [
       "<div>\n",
       "<style scoped>\n",
       "    .dataframe tbody tr th:only-of-type {\n",
       "        vertical-align: middle;\n",
       "    }\n",
       "\n",
       "    .dataframe tbody tr th {\n",
       "        vertical-align: top;\n",
       "    }\n",
       "\n",
       "    .dataframe thead th {\n",
       "        text-align: right;\n",
       "    }\n",
       "</style>\n",
       "<table border=\"1\" class=\"dataframe\">\n",
       "  <thead>\n",
       "    <tr style=\"text-align: right;\">\n",
       "      <th></th>\n",
       "      <th>Produto</th>\n",
       "      <th>Quantidade_Vendida</th>\n",
       "      <th>Valor_Unitario</th>\n",
       "      <th>Valor_Total</th>\n",
       "    </tr>\n",
       "  </thead>\n",
       "  <tbody>\n",
       "    <tr>\n",
       "      <th>0</th>\n",
       "      <td>Celular</td>\n",
       "      <td>100</td>\n",
       "      <td>1000</td>\n",
       "      <td>100000</td>\n",
       "    </tr>\n",
       "    <tr>\n",
       "      <th>1</th>\n",
       "      <td>TV</td>\n",
       "      <td>50</td>\n",
       "      <td>2000</td>\n",
       "      <td>100000</td>\n",
       "    </tr>\n",
       "    <tr>\n",
       "      <th>2</th>\n",
       "      <td>Notebook</td>\n",
       "      <td>70</td>\n",
       "      <td>2500</td>\n",
       "      <td>175000</td>\n",
       "    </tr>\n",
       "    <tr>\n",
       "      <th>3</th>\n",
       "      <td>Tablet</td>\n",
       "      <td>30</td>\n",
       "      <td>800</td>\n",
       "      <td>24000</td>\n",
       "    </tr>\n",
       "    <tr>\n",
       "      <th>4</th>\n",
       "      <td>Headphone</td>\n",
       "      <td>80</td>\n",
       "      <td>150</td>\n",
       "      <td>12000</td>\n",
       "    </tr>\n",
       "  </tbody>\n",
       "</table>\n",
       "</div>"
      ],
      "text/plain": [
       "     Produto  Quantidade_Vendida  Valor_Unitario  Valor_Total\n",
       "0    Celular                 100            1000       100000\n",
       "1         TV                  50            2000       100000\n",
       "2   Notebook                  70            2500       175000\n",
       "3     Tablet                  30             800        24000\n",
       "4  Headphone                  80             150        12000"
      ]
     },
     "execution_count": 14,
     "metadata": {},
     "output_type": "execute_result"
    }
   ],
   "source": [
    "# **Arquivo Exercicio_Pandas_2.json**\n",
    "# 1.  Carregue um conjunto de dados complexo (por exemplo, de um arquivo JSON ou um banco de dados SQL) e crie um DataFrame usando o Pandas.\n",
    "\n",
    "df_json = pd.read_json('../../Datasets/Exercicio_Pandas_2.json')\n",
    "df_json"
   ]
  },
  {
   "cell_type": "code",
   "execution_count": 15,
   "id": "bf81d11c",
   "metadata": {},
   "outputs": [
    {
     "data": {
      "text/html": [
       "<div>\n",
       "<style scoped>\n",
       "    .dataframe tbody tr th:only-of-type {\n",
       "        vertical-align: middle;\n",
       "    }\n",
       "\n",
       "    .dataframe tbody tr th {\n",
       "        vertical-align: top;\n",
       "    }\n",
       "\n",
       "    .dataframe thead th {\n",
       "        text-align: right;\n",
       "    }\n",
       "</style>\n",
       "<table border=\"1\" class=\"dataframe\">\n",
       "  <thead>\n",
       "    <tr style=\"text-align: right;\">\n",
       "      <th></th>\n",
       "      <th>Produto</th>\n",
       "      <th>Quantidade_Vendida</th>\n",
       "      <th>Valor_Unitario</th>\n",
       "      <th>Valor_Total</th>\n",
       "    </tr>\n",
       "  </thead>\n",
       "  <tbody>\n",
       "    <tr>\n",
       "      <th>0</th>\n",
       "      <td>Celular</td>\n",
       "      <td>100</td>\n",
       "      <td>1000</td>\n",
       "      <td>100000</td>\n",
       "    </tr>\n",
       "    <tr>\n",
       "      <th>1</th>\n",
       "      <td>TV</td>\n",
       "      <td>50</td>\n",
       "      <td>2000</td>\n",
       "      <td>100000</td>\n",
       "    </tr>\n",
       "    <tr>\n",
       "      <th>2</th>\n",
       "      <td>Celular</td>\n",
       "      <td>70</td>\n",
       "      <td>2500</td>\n",
       "      <td>175000</td>\n",
       "    </tr>\n",
       "    <tr>\n",
       "      <th>3</th>\n",
       "      <td>Tablet</td>\n",
       "      <td>30</td>\n",
       "      <td>800</td>\n",
       "      <td>24000</td>\n",
       "    </tr>\n",
       "    <tr>\n",
       "      <th>4</th>\n",
       "      <td>Celular</td>\n",
       "      <td>80</td>\n",
       "      <td>150</td>\n",
       "      <td>12000</td>\n",
       "    </tr>\n",
       "  </tbody>\n",
       "</table>\n",
       "</div>"
      ],
      "text/plain": [
       "   Produto  Quantidade_Vendida  Valor_Unitario  Valor_Total\n",
       "0  Celular                 100            1000       100000\n",
       "1       TV                  50            2000       100000\n",
       "2  Celular                  70            2500       175000\n",
       "3   Tablet                  30             800        24000\n",
       "4  Celular                  80             150        12000"
      ]
     },
     "execution_count": 15,
     "metadata": {},
     "output_type": "execute_result"
    }
   ],
   "source": [
    "# 2.  Utilize técnicas de indexação avançada para selecionar, filtrar e modificar dados em um DataFrame.\n",
    "df_json.loc[df_json['Quantidade_Vendida'] > 50, 'Produto'] = 'Celular'\n",
    "df_json"
   ]
  },
  {
   "cell_type": "code",
   "execution_count": 16,
   "id": "c805f8ee",
   "metadata": {},
   "outputs": [
    {
     "data": {
      "text/html": [
       "<div>\n",
       "<style scoped>\n",
       "    .dataframe tbody tr th:only-of-type {\n",
       "        vertical-align: middle;\n",
       "    }\n",
       "\n",
       "    .dataframe tbody tr th {\n",
       "        vertical-align: top;\n",
       "    }\n",
       "\n",
       "    .dataframe thead th {\n",
       "        text-align: right;\n",
       "    }\n",
       "</style>\n",
       "<table border=\"1\" class=\"dataframe\">\n",
       "  <thead>\n",
       "    <tr style=\"text-align: right;\">\n",
       "      <th></th>\n",
       "      <th>Produto</th>\n",
       "      <th>Quantidade_Vendida</th>\n",
       "      <th>Valor_Unitario</th>\n",
       "      <th>Valor_Total</th>\n",
       "    </tr>\n",
       "  </thead>\n",
       "  <tbody>\n",
       "    <tr>\n",
       "      <th>0</th>\n",
       "      <td>Celular</td>\n",
       "      <td>100</td>\n",
       "      <td>1000</td>\n",
       "      <td>100000</td>\n",
       "    </tr>\n",
       "    <tr>\n",
       "      <th>1</th>\n",
       "      <td>TV</td>\n",
       "      <td>50</td>\n",
       "      <td>2000</td>\n",
       "      <td>100000</td>\n",
       "    </tr>\n",
       "    <tr>\n",
       "      <th>2</th>\n",
       "      <td>Notebook</td>\n",
       "      <td>70</td>\n",
       "      <td>2500</td>\n",
       "      <td>175000</td>\n",
       "    </tr>\n",
       "    <tr>\n",
       "      <th>3</th>\n",
       "      <td>Tablet</td>\n",
       "      <td>30</td>\n",
       "      <td>800</td>\n",
       "      <td>24000</td>\n",
       "    </tr>\n",
       "    <tr>\n",
       "      <th>4</th>\n",
       "      <td>Headphone</td>\n",
       "      <td>80</td>\n",
       "      <td>150</td>\n",
       "      <td>12000</td>\n",
       "    </tr>\n",
       "    <tr>\n",
       "      <th>5</th>\n",
       "      <td>Mouse</td>\n",
       "      <td>60</td>\n",
       "      <td>50</td>\n",
       "      <td>3000</td>\n",
       "    </tr>\n",
       "    <tr>\n",
       "      <th>6</th>\n",
       "      <td>Teclado</td>\n",
       "      <td>40</td>\n",
       "      <td>100</td>\n",
       "      <td>4000</td>\n",
       "    </tr>\n",
       "  </tbody>\n",
       "</table>\n",
       "</div>"
      ],
      "text/plain": [
       "     Produto  Quantidade_Vendida  Valor_Unitario  Valor_Total\n",
       "0    Celular                 100            1000       100000\n",
       "1         TV                  50            2000       100000\n",
       "2   Notebook                  70            2500       175000\n",
       "3     Tablet                  30             800        24000\n",
       "4  Headphone                  80             150        12000\n",
       "5      Mouse                  60              50         3000\n",
       "6    Teclado                  40             100         4000"
      ]
     },
     "execution_count": 16,
     "metadata": {},
     "output_type": "execute_result"
    }
   ],
   "source": [
    "# **Arquivos Exercicio_Pandas_2.json e Exercicio_Pandas_3.csv**\n",
    "# 1.  Combine dois DataFrames usando operações de junção (merge) ou concatenação.\n",
    "df_json = pd.read_json('../../Datasets/Exercicio_Pandas_2.json')\n",
    "df_csv = pd.read_csv('../../Datasets/Exercicio_Pandas_3.csv', sep = '\\t')\n",
    "\n",
    "df_concatenado = pd.concat([df_json, df_csv], ignore_index=True)\n",
    "df_concatenado"
   ]
  },
  {
   "cell_type": "code",
   "execution_count": 19,
   "id": "d2da59a9",
   "metadata": {},
   "outputs": [
    {
     "data": {
      "text/plain": [
       "Produto    Valor_Unitario\n",
       "Celular    1000              100000.0\n",
       "Headphone  150                12000.0\n",
       "Mouse      50                  3000.0\n",
       "Notebook   2500              175000.0\n",
       "TV         2000              100000.0\n",
       "Tablet     800                24000.0\n",
       "Teclado    100                 4000.0\n",
       "Name: Valor_Total, dtype: float64"
      ]
     },
     "execution_count": 19,
     "metadata": {},
     "output_type": "execute_result"
    }
   ],
   "source": [
    "# 2.  Utilize o método `groupby()` para agrupar os dados por múltiplas colunas e realizar operações de agregação em grupos.\n",
    "grupo = df_concatenado.groupby(['Produto', 'Valor_Unitario'])['Valor_Total'].mean()\n",
    "grupo"
   ]
  }
 ],
 "metadata": {
  "kernelspec": {
   "display_name": "Python 3 (ipykernel)",
   "language": "python",
   "name": "python3"
  },
  "language_info": {
   "codemirror_mode": {
    "name": "ipython",
    "version": 3
   },
   "file_extension": ".py",
   "mimetype": "text/x-python",
   "name": "python",
   "nbconvert_exporter": "python",
   "pygments_lexer": "ipython3",
   "version": "3.9.7"
  }
 },
 "nbformat": 4,
 "nbformat_minor": 5
}
