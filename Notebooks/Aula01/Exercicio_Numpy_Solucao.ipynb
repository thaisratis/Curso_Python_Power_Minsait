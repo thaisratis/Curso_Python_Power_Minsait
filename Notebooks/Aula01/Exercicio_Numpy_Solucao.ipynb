{
 "cells": [
  {
   "cell_type": "markdown",
   "id": "4bece3fc",
   "metadata": {},
   "source": [
    "# Exercício"
   ]
  },
  {
   "cell_type": "markdown",
   "id": "6d0f5db4",
   "metadata": {},
   "source": [
    "1. Crie um array NumPy unidimensional com os números de 1 a 10.\n",
    "   \n",
    "2. Crie um array NumPy bidimensional 3x3 preenchido com zeros.\n",
    "   \n",
    "3. Crie um array NumPy bidimensional 4x4 preenchido com uns.\n",
    "   \n",
    "4. Crie um array NumPy com 20 valores aleatórios entre 0 e 100.\n",
    "5. Crie um array NumPy unidimensional com espaçamento de 0.5 entre 0 e 10.\n",
    "6. Crie um array NumPy bidimensional 5x5 com valores aleatórios inteiros entre 1 e 100.\n",
    "7. Dada a matriz A = [[1, 2, 3], [4, 5, 6], [7, 8, 9]], crie um array NumPy contendo apenas a segunda coluna da matriz A.\n",
    "8. Dado o array NumPy x = [1, 2, 3, 4, 5], crie um novo array onde todos os valores pares sejam substituídos por -1.\n",
    "9.  Dado o array NumPy x = [1, 2, 3, 4, 5], crie um novo array onde todos os valores maiores que 2 sejam substituídos por 0.\n",
    "10. Dada a matriz A = [[1, 2], [3, 4]] e a matriz B = [[5, 6], [7, 8]], calcule a multiplicação matricial entre A e B.\n",
    "11. Dado o array NumPy x = [1, 2, 3], crie:\n",
    "    \n",
    "        a) Crie um novo array com os valores de x repetidos três vezes.\n",
    "        b) Crie um novo array com os valores de x repetidos lado a lado três vezes.\n",
    "        c) Crie um novo array com os valores de x repetidos verticalmente três vezes.\n",
    "        d) Inverta a ordem dos elementos do array.\n",
    "12. Considere o seguinte array bidimensional vendas representando as vendas de produtos em diferentes regiões ao longo de 5 anos, onde cada coluna é um ano e cada linha uam região:\n",
    "    \n",
    "            vendas = np.array([\n",
    "                [100, 150, 200, 120, 180],  # Região 1\n",
    "                [80, 120, 150, 100, 130],   # Região 2\n",
    "                [200, 180, 220, 190, 210],  # Região 3\n",
    "                [150, 160, 170, 140, 180],  # Região 4\n",
    "                [120, 110, 130, 90, 140]    # Região 5\n",
    "            ])\n",
    "\n",
    "        a) Calcule e exiba a média de vendas de cada região ao longo dos 5 anos.\n",
    "        b) Determine o ano (1, 2, 3, 4 ou 5) com o maior número de vendas para cada região e exiba os anos correspondentes.\n",
    "        c) Encontre e exiba a região com a menor média de vendas ao longo dos 5 anos.\n",
    "        d) Crie um novo array chamado vendas_lojas, contendo apenas as vendas das lojas nos últimos dois anos.\n",
    "        e) Usando o array vendas_lojas do item acima, calcule e exiba a média de vendas de cada loja nos últimos dois anos.\n",
    "13. Considere o seguinte array bidimensional notas representando as notas dos alunos em diferentes disciplinas ao longo de 3 trimestres:\n",
    "\n",
    "            notas = np.array([\n",
    "                [8, 7, 6],\n",
    "                [9, 8, 7],\n",
    "                [6, 5, 4],\n",
    "                [7, 6, 5],\n",
    "                [10, 9, 8]\n",
    "             ])\n",
    "    \n",
    "        a) Crie um novo array chamado aprovados que contenha apenas as notas dos alunos que foram aprovados em todas as disciplinas nos três trimestres (nota maior ou igual a 7).\n",
    "        b) Calcule e exiba a média das notas das disciplinas.\n",
    "        c) Calcule e exiba a média das notas dos alunos.\n",
    "        d) Determine quantos alunos foram aprovados em todas as disciplinas nos três trimestres."
   ]
  },
  {
   "cell_type": "code",
   "execution_count": 1,
   "id": "383dee56",
   "metadata": {},
   "outputs": [],
   "source": [
    "import numpy as np"
   ]
  },
  {
   "cell_type": "code",
   "execution_count": 2,
   "id": "2ad75bde",
   "metadata": {},
   "outputs": [
    {
     "name": "stdout",
     "output_type": "stream",
     "text": [
      "[ 1  2  3  4  5  6  7  8  9 10]\n"
     ]
    }
   ],
   "source": [
    "# 1. Crie um array NumPy unidimensional com os números de 1 a 10.\n",
    "\n",
    "array = np.arange(1, 11)\n",
    "print(array)"
   ]
  },
  {
   "cell_type": "code",
   "execution_count": 3,
   "id": "8b5a296a",
   "metadata": {},
   "outputs": [
    {
     "name": "stdout",
     "output_type": "stream",
     "text": [
      "[[0. 0. 0.]\n",
      " [0. 0. 0.]\n",
      " [0. 0. 0.]]\n"
     ]
    }
   ],
   "source": [
    "# 2. Crie um array NumPy bidimensional 3x3 preenchido com zeros.\n",
    "array = np.zeros((3, 3))\n",
    "print(array)"
   ]
  },
  {
   "cell_type": "code",
   "execution_count": 4,
   "id": "394b1a84",
   "metadata": {},
   "outputs": [
    {
     "name": "stdout",
     "output_type": "stream",
     "text": [
      "[[1. 1. 1. 1.]\n",
      " [1. 1. 1. 1.]\n",
      " [1. 1. 1. 1.]\n",
      " [1. 1. 1. 1.]]\n"
     ]
    }
   ],
   "source": [
    "# 3. Crie um array NumPy bidimensional 4x4 preenchido com uns.\n",
    "\n",
    "array = np.ones((4, 4))\n",
    "print(array)"
   ]
  },
  {
   "cell_type": "code",
   "execution_count": 5,
   "id": "fb393a5b",
   "metadata": {},
   "outputs": [
    {
     "name": "stdout",
     "output_type": "stream",
     "text": [
      "[60 36 80 53 92 17  2 39 49 30 91 28 56  4 63 92 23 37 53 12]\n"
     ]
    }
   ],
   "source": [
    "# 4. Crie um array NumPy com 20 valores aleatórios entre 0 e 100.\n",
    "\n",
    "array = np.random.randint(0, 100, 20)\n",
    "print(array)"
   ]
  },
  {
   "cell_type": "code",
   "execution_count": 6,
   "id": "4b9f30ba",
   "metadata": {},
   "outputs": [
    {
     "data": {
      "text/plain": [
       "array([ 5.72317942, 99.23041977, 54.98546931, 89.50544536, 13.48476168,\n",
       "       55.51406658, 24.02498755, 46.25558359, 27.7485269 , 16.60604712,\n",
       "       21.71136239, 89.23807875, 75.00496644, 76.79520843, 72.74252828,\n",
       "        4.09250649,  4.61733556, 35.39029811,  5.87567276, 65.20682051])"
      ]
     },
     "execution_count": 6,
     "metadata": {},
     "output_type": "execute_result"
    }
   ],
   "source": [
    "np.random.random(20)*100"
   ]
  },
  {
   "cell_type": "code",
   "execution_count": 7,
   "id": "2fe732df",
   "metadata": {},
   "outputs": [
    {
     "data": {
      "text/plain": [
       "array([ 1.26607159, 79.97445883, 66.74847563, 24.72089136, 18.20977988,\n",
       "       89.50251725,  8.68792128, 81.30898418, 25.25702221,  7.71472263,\n",
       "       76.36428316, 17.61834345, 48.14258676, 48.93961553, 15.97832063,\n",
       "       20.99428409, 26.81652014, 92.06045167, 92.62300273, 31.78773366])"
      ]
     },
     "execution_count": 7,
     "metadata": {},
     "output_type": "execute_result"
    }
   ],
   "source": [
    "np.random.rand(20)*100"
   ]
  },
  {
   "cell_type": "code",
   "execution_count": 8,
   "id": "e76c7572",
   "metadata": {},
   "outputs": [
    {
     "name": "stdout",
     "output_type": "stream",
     "text": [
      "[ 0.   0.5  1.   1.5  2.   2.5  3.   3.5  4.   4.5  5.   5.5  6.   6.5\n",
      "  7.   7.5  8.   8.5  9.   9.5 10. ]\n"
     ]
    }
   ],
   "source": [
    "# 5. Crie um array NumPy unidimensional com espaçamento de 0.5 entre 0 e 10.\n",
    "\n",
    "array = np.arange(0, 10.5, 0.5)\n",
    "print(array)"
   ]
  },
  {
   "cell_type": "code",
   "execution_count": 9,
   "id": "22c2de93",
   "metadata": {},
   "outputs": [
    {
     "name": "stdout",
     "output_type": "stream",
     "text": [
      "[[ 2 15 64 20 70]\n",
      " [12 55 50 48  4]\n",
      " [34 57 38 36 99]\n",
      " [98 17 51 54 29]\n",
      " [16  7 16 96 79]]\n"
     ]
    }
   ],
   "source": [
    "# 6. Crie um array NumPy bidimensional 5x5 com valores aleatórios inteiros entre 1 e 100.\n",
    "\n",
    "array = np.random.randint(1, 101, (5, 5))\n",
    "print(array)"
   ]
  },
  {
   "cell_type": "code",
   "execution_count": 10,
   "id": "0c5bc380",
   "metadata": {},
   "outputs": [
    {
     "name": "stdout",
     "output_type": "stream",
     "text": [
      "[2 5 8]\n"
     ]
    }
   ],
   "source": [
    "# 7. Dada a matriz A = [[1, 2, 3], [4, 5, 6], [7, 8, 9]], crie um array NumPy contendo apenas a segunda coluna da matriz A.\n",
    "\n",
    "A = np.array([[1, 2, 3], [4, 5, 6], [7, 8, 9]])\n",
    "segunda_coluna = A[:, 1]\n",
    "print(segunda_coluna)"
   ]
  },
  {
   "cell_type": "code",
   "execution_count": 11,
   "id": "6658a6b6",
   "metadata": {},
   "outputs": [
    {
     "name": "stdout",
     "output_type": "stream",
     "text": [
      "[ 1 -1  3 -1  5]\n"
     ]
    }
   ],
   "source": [
    "# 8. Dado o array NumPy x = [1, 2, 3, 4, 5], crie um novo array onde todos os valores pares sejam substituídos por -1.\n",
    "\n",
    "x = np.array([1, 2, 3, 4, 5])\n",
    "novo_array = np.where(x % 2 == 0, -1, x)\n",
    "print(novo_array)"
   ]
  },
  {
   "cell_type": "code",
   "execution_count": 12,
   "id": "f12c5af8",
   "metadata": {},
   "outputs": [
    {
     "name": "stdout",
     "output_type": "stream",
     "text": [
      "[1 2 0 0 0]\n"
     ]
    }
   ],
   "source": [
    "# 9. Dado o array NumPy x = [1, 2, 3, 4, 5], crie um novo array onde todos os valores maiores que 2 sejam substituídos por 0.\n",
    "\n",
    "x = np.array([1, 2, 3, 4, 5])\n",
    "novo_array = np.where(x > 2, 0, x)\n",
    "print(novo_array)"
   ]
  },
  {
   "cell_type": "code",
   "execution_count": 13,
   "id": "7b26b16d",
   "metadata": {},
   "outputs": [
    {
     "name": "stdout",
     "output_type": "stream",
     "text": [
      "[[19 22]\n",
      " [43 50]]\n"
     ]
    }
   ],
   "source": [
    "# 10. Dada a matriz A = [[1, 2], [3, 4]] e a matriz B = [[5, 6], [7, 8]], calcule a multiplicação matricial entre A e B.\n",
    "\n",
    "A = np.array([[1, 2], [3, 4]])\n",
    "B = np.array([[5, 6], [7, 8]])\n",
    "multiplicacao = np.dot(A, B)\n",
    "\n",
    "print(multiplicacao)"
   ]
  },
  {
   "cell_type": "code",
   "execution_count": 14,
   "id": "5e99ec19",
   "metadata": {},
   "outputs": [],
   "source": [
    "# 11 \n",
    "\n",
    "x = np.array([1, 2, 3])"
   ]
  },
  {
   "cell_type": "code",
   "execution_count": 15,
   "id": "5b4ea01b",
   "metadata": {},
   "outputs": [
    {
     "name": "stdout",
     "output_type": "stream",
     "text": [
      "[1 2 3 1 2 3 1 2 3]\n"
     ]
    }
   ],
   "source": [
    "# a) Dado o array NumPy x = [1, 2, 3], crie um novo array com os valores de x repetidos três vezes.\n",
    "\n",
    "novo_array = np.tile(x, 3)\n",
    "print(novo_array)"
   ]
  },
  {
   "cell_type": "code",
   "execution_count": 16,
   "id": "0f6afc5f",
   "metadata": {},
   "outputs": [
    {
     "name": "stdout",
     "output_type": "stream",
     "text": [
      "[1 1 1 2 2 2 3 3 3]\n"
     ]
    }
   ],
   "source": [
    "# b) Dado o array NumPy x = [1, 2, 3], crie um novo array com os valores de x repetidos lado a lado três vezes.\n",
    "\n",
    "novo_array = np.repeat(x, 3)\n",
    "print(novo_array)"
   ]
  },
  {
   "cell_type": "code",
   "execution_count": 17,
   "id": "d74b16ac",
   "metadata": {},
   "outputs": [
    {
     "name": "stdout",
     "output_type": "stream",
     "text": [
      "[[1 2 3]\n",
      " [1 2 3]\n",
      " [1 2 3]]\n"
     ]
    }
   ],
   "source": [
    "# c) Dado o array NumPy x = [1, 2, 3], crie um novo array com os valores de x repetidos verticalmente três vezes.\n",
    "\n",
    "novo_array = np.tile(x, (3, 1))\n",
    "print(novo_array)"
   ]
  },
  {
   "cell_type": "code",
   "execution_count": 18,
   "id": "756b0e13",
   "metadata": {},
   "outputs": [
    {
     "name": "stdout",
     "output_type": "stream",
     "text": [
      "[3 2 1]\n"
     ]
    }
   ],
   "source": [
    "# d) Dado o array NumPy x = [1, 2, 3], inverta a ordem dos elementos do array.\n",
    "\n",
    "array_invertido = np.flip(x)\n",
    "print(array_invertido)"
   ]
  },
  {
   "cell_type": "code",
   "execution_count": 19,
   "id": "3f132bfa",
   "metadata": {},
   "outputs": [],
   "source": [
    "# 12 \n",
    "\n",
    "vendas = np.array([\n",
    "    [100, 150, 200, 120, 180],  # Região 1\n",
    "    [80, 120, 150, 100, 130],   # Região 2\n",
    "    [200, 180, 220, 190, 210],  # Região 3\n",
    "    [150, 160, 170, 140, 180],  # Região 4\n",
    "    [120, 110, 130, 90, 140]    # Região 5\n",
    "])"
   ]
  },
  {
   "cell_type": "code",
   "execution_count": 20,
   "id": "2fa73b91",
   "metadata": {},
   "outputs": [
    {
     "name": "stdout",
     "output_type": "stream",
     "text": [
      "Média de vendas de cada região ao longo dos 5 anos: [150. 116. 200. 160. 118.]\n"
     ]
    }
   ],
   "source": [
    "# a) Calcule e exiba a média de vendas de cada região ao longo dos 5 anos.\n",
    "\n",
    "media_regioes = np.mean(vendas, axis=1)\n",
    "print(\"Média de vendas de cada região ao longo dos 5 anos:\", media_regioes)"
   ]
  },
  {
   "cell_type": "code",
   "execution_count": 32,
   "id": "69c9b4fa",
   "metadata": {},
   "outputs": [
    {
     "name": "stdout",
     "output_type": "stream",
     "text": [
      "Ano com o maior número de vendas para cada região: [3 3 3 5 5]\n",
      "Na Região 1 o maior número de vendas foi do Ano 3\n",
      "Na Região 2 o maior número de vendas foi do Ano 3\n",
      "Na Região 3 o maior número de vendas foi do Ano 3\n",
      "Na Região 4 o maior número de vendas foi do Ano 5\n",
      "Na Região 5 o maior número de vendas foi do Ano 5\n"
     ]
    }
   ],
   "source": [
    "# b) Determine o ano (1, 2, 3, 4 ou 5) com o maior número de vendas para cada região.\n",
    "anos_max_vendas = np.argmax(vendas, axis=1) + 1\n",
    "print(\"Ano com o maior número de vendas para cada região:\", anos_max_vendas)\n",
    "\n",
    "# Exibição do ano de vendas de cada loja nos últimos dois anos\n",
    "for i, ano in enumerate(anos_max_vendas):\n",
    "    print(f\"Na Região {i+1} o maior número de vendas foi do Ano {ano}\")"
   ]
  },
  {
   "cell_type": "code",
   "execution_count": 22,
   "id": "2f1119af",
   "metadata": {},
   "outputs": [
    {
     "name": "stdout",
     "output_type": "stream",
     "text": [
      "Região com a menor média de vendas ao longo dos 5 anos é a Região 2\n"
     ]
    }
   ],
   "source": [
    "# c) Encontre e exiba a região com a menor média de vendas ao longo dos 5 anos.\n",
    "regiao_menor_media = np.argmin(media_regioes) + 1\n",
    "print(\"Região com a menor média de vendas ao longo dos 5 anos é a Região\", regiao_menor_media)"
   ]
  },
  {
   "cell_type": "code",
   "execution_count": 23,
   "id": "f73a0214",
   "metadata": {},
   "outputs": [
    {
     "data": {
      "text/plain": [
       "array([[120, 180],\n",
       "       [100, 130],\n",
       "       [190, 210],\n",
       "       [140, 180],\n",
       "       [ 90, 140]])"
      ]
     },
     "execution_count": 23,
     "metadata": {},
     "output_type": "execute_result"
    }
   ],
   "source": [
    "# d) Crie um novo array chamado vendas_lojas, contendo apenas as vendas das lojas nos últimos dois anos.\n",
    "vendas_lojas = vendas[:, -2:]\n",
    "vendas_lojas"
   ]
  },
  {
   "cell_type": "code",
   "execution_count": 24,
   "id": "0bfcb816",
   "metadata": {},
   "outputs": [
    {
     "name": "stdout",
     "output_type": "stream",
     "text": [
      "Média de vendas da Região 1 nos últimos dois anos: 150.0\n",
      "Média de vendas da Região 2 nos últimos dois anos: 115.0\n",
      "Média de vendas da Região 3 nos últimos dois anos: 200.0\n",
      "Média de vendas da Região 4 nos últimos dois anos: 160.0\n",
      "Média de vendas da Região 5 nos últimos dois anos: 115.0\n"
     ]
    }
   ],
   "source": [
    "# e) Usando o array vendas_lojas do item acima, calcule e exiba a média de vendas de cada loja nos últimos dois anos.\n",
    "\n",
    "media_vendas_lojas = np.mean(vendas_lojas, axis=1)\n",
    "\n",
    "# Exibição da média de vendas de cada loja nos últimos dois anos\n",
    "for i, media in enumerate(media_vendas_lojas):\n",
    "    print(f\"Média de vendas da Região {i+1} nos últimos dois anos: {media}\")"
   ]
  },
  {
   "cell_type": "code",
   "execution_count": 25,
   "id": "9311c67a",
   "metadata": {},
   "outputs": [],
   "source": [
    "# 13\n",
    "\n",
    "notas = np.array([\n",
    "    [8, 7, 6],\n",
    "    [9, 8, 7],\n",
    "    [6, 5, 4],\n",
    "    [7, 6, 5],\n",
    "    [10, 9, 8]\n",
    "])"
   ]
  },
  {
   "cell_type": "code",
   "execution_count": 26,
   "id": "078391a2",
   "metadata": {},
   "outputs": [
    {
     "data": {
      "text/plain": [
       "array([[ 9,  8,  7],\n",
       "       [10,  9,  8]])"
      ]
     },
     "execution_count": 26,
     "metadata": {},
     "output_type": "execute_result"
    }
   ],
   "source": [
    "# a) Crie um novo array chamado aprovados que contenha apenas as notas dos alunos que foram aprovados em todas as disciplinas nos três trimestres (nota maior ou igual a 7).\n",
    "\n",
    "aprovados = notas[(notas >= 7).all(axis=1)]\n",
    "aprovados"
   ]
  },
  {
   "cell_type": "code",
   "execution_count": 36,
   "id": "944ac5fd",
   "metadata": {},
   "outputs": [
    {
     "data": {
      "text/plain": [
       "array([9.5, 8.5, 7.5])"
      ]
     },
     "execution_count": 36,
     "metadata": {},
     "output_type": "execute_result"
    }
   ],
   "source": [
    "# b) Calcule e exiba a média das notas das disciplinas.\n",
    "\n",
    "media_notas_aprovadas = np.mean(aprovados, axis=0)\n",
    "media_notas_aprovadas"
   ]
  },
  {
   "cell_type": "code",
   "execution_count": 37,
   "id": "0bb49035",
   "metadata": {},
   "outputs": [
    {
     "data": {
      "text/plain": [
       "array([8., 9.])"
      ]
     },
     "execution_count": 37,
     "metadata": {},
     "output_type": "execute_result"
    }
   ],
   "source": [
    "# c) Calcule e exiba a média das notas dos alunos.\n",
    "\n",
    "media_notas_aprovadas = np.mean(aprovados, axis=1)\n",
    "media_notas_aprovadas"
   ]
  },
  {
   "cell_type": "code",
   "execution_count": 28,
   "id": "a3736609",
   "metadata": {},
   "outputs": [
    {
     "data": {
      "text/plain": [
       "2"
      ]
     },
     "execution_count": 28,
     "metadata": {},
     "output_type": "execute_result"
    }
   ],
   "source": [
    "# d) Determine quantos alunos foram aprovados em todas as disciplinas nos três trimestres.\n",
    "\n",
    "alunos_aprovados_total = len(aprovados)\n",
    "alunos_aprovados_total"
   ]
  }
 ],
 "metadata": {
  "kernelspec": {
   "display_name": "Python 3 (ipykernel)",
   "language": "python",
   "name": "python3"
  },
  "language_info": {
   "codemirror_mode": {
    "name": "ipython",
    "version": 3
   },
   "file_extension": ".py",
   "mimetype": "text/x-python",
   "name": "python",
   "nbconvert_exporter": "python",
   "pygments_lexer": "ipython3",
   "version": "3.9.7"
  }
 },
 "nbformat": 4,
 "nbformat_minor": 5
}
