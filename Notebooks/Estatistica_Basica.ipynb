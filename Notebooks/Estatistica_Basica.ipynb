{
 "cells": [
  {
   "cell_type": "markdown",
   "metadata": {
    "colab_type": "text",
    "id": "mDMdS0t7J9X9"
   },
   "source": [
    "# Medidas de Posição e Tendência Central"
   ]
  },
  {
   "cell_type": "markdown",
   "metadata": {
    "colab_type": "text",
    "id": "QZ67sEcFcVh1"
   },
   "source": [
    "Importando as bibliotecas"
   ]
  },
  {
   "cell_type": "code",
   "execution_count": 1,
   "metadata": {
    "colab": {},
    "colab_type": "code",
    "executionInfo": {
     "elapsed": 1100,
     "status": "ok",
     "timestamp": 1596480268063,
     "user": {
      "displayName": "Felipe Santana",
      "photoUrl": "https://lh3.googleusercontent.com/a-/AOh14GgMc2wbpQbaVUnfYBetWGe9_J4RyeipR29kWtEliw=s64",
      "userId": "18224110012862864727"
     },
     "user_tz": 180
    },
    "id": "IM3LHKiy0Wcs"
   },
   "outputs": [],
   "source": [
    "import pandas as pd               \n",
    "import numpy as np\n",
    "import seaborn as sns\n",
    "import matplotlib.pyplot as plt"
   ]
  },
  {
   "cell_type": "markdown",
   "metadata": {
    "colab_type": "text",
    "id": "W5mg0_Qn9zGZ"
   },
   "source": [
    "Carregando a base de dados."
   ]
  },
  {
   "cell_type": "code",
   "execution_count": 2,
   "metadata": {
    "colab": {},
    "colab_type": "code",
    "executionInfo": {
     "elapsed": 931,
     "status": "ok",
     "timestamp": 1596480287343,
     "user": {
      "displayName": "Felipe Santana",
      "photoUrl": "https://lh3.googleusercontent.com/a-/AOh14GgMc2wbpQbaVUnfYBetWGe9_J4RyeipR29kWtEliw=s64",
      "userId": "18224110012862864727"
     },
     "user_tz": 180
    },
    "id": "TQZu8udy054-"
   },
   "outputs": [],
   "source": [
    "df = pd.read_csv(\"../../Datasets/cars.csv\")"
   ]
  },
  {
   "cell_type": "markdown",
   "metadata": {
    "colab_type": "text",
    "id": "EHmo2YK291nD"
   },
   "source": [
    "Verificando os dados."
   ]
  },
  {
   "cell_type": "code",
   "execution_count": 3,
   "metadata": {
    "colab": {
     "base_uri": "https://localhost:8080/",
     "height": 267
    },
    "colab_type": "code",
    "executionInfo": {
     "elapsed": 1096,
     "status": "ok",
     "timestamp": 1596480293293,
     "user": {
      "displayName": "Felipe Santana",
      "photoUrl": "https://lh3.googleusercontent.com/a-/AOh14GgMc2wbpQbaVUnfYBetWGe9_J4RyeipR29kWtEliw=s64",
      "userId": "18224110012862864727"
     },
     "user_tz": 180
    },
    "id": "9U2gxtoo1NTf",
    "outputId": "e2e31f01-1743-430f-c98b-dae502a95616"
   },
   "outputs": [
    {
     "data": {
      "text/html": [
       "<div>\n",
       "<style scoped>\n",
       "    .dataframe tbody tr th:only-of-type {\n",
       "        vertical-align: middle;\n",
       "    }\n",
       "\n",
       "    .dataframe tbody tr th {\n",
       "        vertical-align: top;\n",
       "    }\n",
       "\n",
       "    .dataframe thead th {\n",
       "        text-align: right;\n",
       "    }\n",
       "</style>\n",
       "<table border=\"1\" class=\"dataframe\">\n",
       "  <thead>\n",
       "    <tr style=\"text-align: right;\">\n",
       "      <th></th>\n",
       "      <th>Make</th>\n",
       "      <th>Model</th>\n",
       "      <th>Type</th>\n",
       "      <th>Origin</th>\n",
       "      <th>DriveTrain</th>\n",
       "      <th>MSRP</th>\n",
       "      <th>Invoice</th>\n",
       "      <th>EngineSize</th>\n",
       "      <th>Cylinders</th>\n",
       "      <th>Horsepower</th>\n",
       "      <th>MPG_City</th>\n",
       "      <th>MPG_Highway</th>\n",
       "      <th>Weight</th>\n",
       "      <th>Wheelbase</th>\n",
       "      <th>Length</th>\n",
       "    </tr>\n",
       "  </thead>\n",
       "  <tbody>\n",
       "    <tr>\n",
       "      <th>0</th>\n",
       "      <td>Acura</td>\n",
       "      <td>MDX</td>\n",
       "      <td>SUV</td>\n",
       "      <td>Asia</td>\n",
       "      <td>All</td>\n",
       "      <td>$36,945</td>\n",
       "      <td>$33,337</td>\n",
       "      <td>3.5</td>\n",
       "      <td>6.0</td>\n",
       "      <td>265</td>\n",
       "      <td>17</td>\n",
       "      <td>23</td>\n",
       "      <td>4451</td>\n",
       "      <td>106</td>\n",
       "      <td>189</td>\n",
       "    </tr>\n",
       "    <tr>\n",
       "      <th>1</th>\n",
       "      <td>Acura</td>\n",
       "      <td>RSX Type S 2dr</td>\n",
       "      <td>Sedan</td>\n",
       "      <td>Asia</td>\n",
       "      <td>Front</td>\n",
       "      <td>$23,820</td>\n",
       "      <td>$21,761</td>\n",
       "      <td>2.0</td>\n",
       "      <td>4.0</td>\n",
       "      <td>200</td>\n",
       "      <td>24</td>\n",
       "      <td>31</td>\n",
       "      <td>2778</td>\n",
       "      <td>101</td>\n",
       "      <td>172</td>\n",
       "    </tr>\n",
       "    <tr>\n",
       "      <th>2</th>\n",
       "      <td>Acura</td>\n",
       "      <td>TSX 4dr</td>\n",
       "      <td>Sedan</td>\n",
       "      <td>Asia</td>\n",
       "      <td>Front</td>\n",
       "      <td>$26,990</td>\n",
       "      <td>$24,647</td>\n",
       "      <td>2.4</td>\n",
       "      <td>4.0</td>\n",
       "      <td>200</td>\n",
       "      <td>22</td>\n",
       "      <td>29</td>\n",
       "      <td>3230</td>\n",
       "      <td>105</td>\n",
       "      <td>183</td>\n",
       "    </tr>\n",
       "    <tr>\n",
       "      <th>3</th>\n",
       "      <td>Acura</td>\n",
       "      <td>TL 4dr</td>\n",
       "      <td>Sedan</td>\n",
       "      <td>Asia</td>\n",
       "      <td>Front</td>\n",
       "      <td>$33,195</td>\n",
       "      <td>$30,299</td>\n",
       "      <td>3.2</td>\n",
       "      <td>6.0</td>\n",
       "      <td>270</td>\n",
       "      <td>20</td>\n",
       "      <td>28</td>\n",
       "      <td>3575</td>\n",
       "      <td>108</td>\n",
       "      <td>186</td>\n",
       "    </tr>\n",
       "    <tr>\n",
       "      <th>4</th>\n",
       "      <td>Acura</td>\n",
       "      <td>3.5 RL 4dr</td>\n",
       "      <td>Sedan</td>\n",
       "      <td>Asia</td>\n",
       "      <td>Front</td>\n",
       "      <td>$43,755</td>\n",
       "      <td>$39,014</td>\n",
       "      <td>3.5</td>\n",
       "      <td>6.0</td>\n",
       "      <td>225</td>\n",
       "      <td>18</td>\n",
       "      <td>24</td>\n",
       "      <td>3880</td>\n",
       "      <td>115</td>\n",
       "      <td>197</td>\n",
       "    </tr>\n",
       "  </tbody>\n",
       "</table>\n",
       "</div>"
      ],
      "text/plain": [
       "    Make           Model   Type Origin DriveTrain     MSRP  Invoice  \\\n",
       "0  Acura             MDX    SUV   Asia        All  $36,945  $33,337   \n",
       "1  Acura  RSX Type S 2dr  Sedan   Asia      Front  $23,820  $21,761   \n",
       "2  Acura         TSX 4dr  Sedan   Asia      Front  $26,990  $24,647   \n",
       "3  Acura          TL 4dr  Sedan   Asia      Front  $33,195  $30,299   \n",
       "4  Acura      3.5 RL 4dr  Sedan   Asia      Front  $43,755  $39,014   \n",
       "\n",
       "   EngineSize  Cylinders  Horsepower  MPG_City  MPG_Highway  Weight  \\\n",
       "0         3.5        6.0         265        17           23    4451   \n",
       "1         2.0        4.0         200        24           31    2778   \n",
       "2         2.4        4.0         200        22           29    3230   \n",
       "3         3.2        6.0         270        20           28    3575   \n",
       "4         3.5        6.0         225        18           24    3880   \n",
       "\n",
       "   Wheelbase  Length  \n",
       "0        106     189  \n",
       "1        101     172  \n",
       "2        105     183  \n",
       "3        108     186  \n",
       "4        115     197  "
      ]
     },
     "execution_count": 3,
     "metadata": {},
     "output_type": "execute_result"
    }
   ],
   "source": [
    "df.head(5)"
   ]
  },
  {
   "cell_type": "markdown",
   "metadata": {
    "colab_type": "text",
    "id": "msmP07bj99fw"
   },
   "source": [
    "Verificando as informações do conjunto de dados."
   ]
  },
  {
   "cell_type": "code",
   "execution_count": 4,
   "metadata": {
    "colab": {
     "base_uri": "https://localhost:8080/",
     "height": 397
    },
    "colab_type": "code",
    "executionInfo": {
     "elapsed": 1191,
     "status": "ok",
     "timestamp": 1596480318572,
     "user": {
      "displayName": "Felipe Santana",
      "photoUrl": "https://lh3.googleusercontent.com/a-/AOh14GgMc2wbpQbaVUnfYBetWGe9_J4RyeipR29kWtEliw=s64",
      "userId": "18224110012862864727"
     },
     "user_tz": 180
    },
    "id": "dSf8ykDt3WgQ",
    "outputId": "cb0413e5-eafd-45cf-cd37-1640385c55c2"
   },
   "outputs": [
    {
     "name": "stdout",
     "output_type": "stream",
     "text": [
      "<class 'pandas.core.frame.DataFrame'>\n",
      "RangeIndex: 428 entries, 0 to 427\n",
      "Data columns (total 15 columns):\n",
      " #   Column       Non-Null Count  Dtype  \n",
      "---  ------       --------------  -----  \n",
      " 0   Make         428 non-null    object \n",
      " 1   Model        428 non-null    object \n",
      " 2   Type         428 non-null    object \n",
      " 3   Origin       428 non-null    object \n",
      " 4   DriveTrain   428 non-null    object \n",
      " 5   MSRP         428 non-null    object \n",
      " 6   Invoice      428 non-null    object \n",
      " 7   EngineSize   428 non-null    float64\n",
      " 8   Cylinders    426 non-null    float64\n",
      " 9   Horsepower   428 non-null    int64  \n",
      " 10  MPG_City     428 non-null    int64  \n",
      " 11  MPG_Highway  428 non-null    int64  \n",
      " 12  Weight       428 non-null    int64  \n",
      " 13  Wheelbase    428 non-null    int64  \n",
      " 14  Length       428 non-null    int64  \n",
      "dtypes: float64(2), int64(6), object(7)\n",
      "memory usage: 50.3+ KB\n"
     ]
    }
   ],
   "source": [
    "df.info()"
   ]
  },
  {
   "cell_type": "markdown",
   "metadata": {
    "colab_type": "text",
    "id": "IkBocEye-CtR"
   },
   "source": [
    "Limpando os dados do atributo MSRP."
   ]
  },
  {
   "cell_type": "code",
   "execution_count": 5,
   "metadata": {
    "colab": {},
    "colab_type": "code",
    "executionInfo": {
     "elapsed": 1138,
     "status": "ok",
     "timestamp": 1596480376012,
     "user": {
      "displayName": "Felipe Santana",
      "photoUrl": "https://lh3.googleusercontent.com/a-/AOh14GgMc2wbpQbaVUnfYBetWGe9_J4RyeipR29kWtEliw=s64",
      "userId": "18224110012862864727"
     },
     "user_tz": 180
    },
    "id": "f9VYXpEO3W2X"
   },
   "outputs": [],
   "source": [
    "df['MSRP'] = [x.replace('$', '') for x in df['MSRP']] \n",
    "df['MSRP'] = [x.replace(',', '') for x in df['MSRP']]"
   ]
  },
  {
   "cell_type": "markdown",
   "metadata": {
    "colab_type": "text",
    "id": "YRiUjfU5_S2R"
   },
   "source": [
    "Verificando os dados após limpeza."
   ]
  },
  {
   "cell_type": "code",
   "execution_count": 6,
   "metadata": {
    "colab": {
     "base_uri": "https://localhost:8080/",
     "height": 121
    },
    "colab_type": "code",
    "executionInfo": {
     "elapsed": 894,
     "status": "ok",
     "timestamp": 1596480378461,
     "user": {
      "displayName": "Felipe Santana",
      "photoUrl": "https://lh3.googleusercontent.com/a-/AOh14GgMc2wbpQbaVUnfYBetWGe9_J4RyeipR29kWtEliw=s64",
      "userId": "18224110012862864727"
     },
     "user_tz": 180
    },
    "id": "8COuUjwe-Tj3",
    "outputId": "ae56352a-9906-490d-9359-3ce34fb1a4c5"
   },
   "outputs": [
    {
     "data": {
      "text/plain": [
       "0    36945\n",
       "1    23820\n",
       "2    26990\n",
       "3    33195\n",
       "4    43755\n",
       "Name: MSRP, dtype: object"
      ]
     },
     "execution_count": 6,
     "metadata": {},
     "output_type": "execute_result"
    }
   ],
   "source": [
    "df['MSRP'].head(5)"
   ]
  },
  {
   "cell_type": "markdown",
   "metadata": {
    "colab_type": "text",
    "id": "u6MPYZkI_XBm"
   },
   "source": [
    "Verificando as informações do conjunto de dados."
   ]
  },
  {
   "cell_type": "code",
   "execution_count": 7,
   "metadata": {
    "colab": {
     "base_uri": "https://localhost:8080/",
     "height": 397
    },
    "colab_type": "code",
    "executionInfo": {
     "elapsed": 940,
     "status": "ok",
     "timestamp": 1596480402139,
     "user": {
      "displayName": "Felipe Santana",
      "photoUrl": "https://lh3.googleusercontent.com/a-/AOh14GgMc2wbpQbaVUnfYBetWGe9_J4RyeipR29kWtEliw=s64",
      "userId": "18224110012862864727"
     },
     "user_tz": 180
    },
    "id": "67KkkIAd_J0V",
    "outputId": "c1e6d756-cf7f-4faf-acb0-8b1a2720c972"
   },
   "outputs": [
    {
     "name": "stdout",
     "output_type": "stream",
     "text": [
      "<class 'pandas.core.frame.DataFrame'>\n",
      "RangeIndex: 428 entries, 0 to 427\n",
      "Data columns (total 15 columns):\n",
      " #   Column       Non-Null Count  Dtype  \n",
      "---  ------       --------------  -----  \n",
      " 0   Make         428 non-null    object \n",
      " 1   Model        428 non-null    object \n",
      " 2   Type         428 non-null    object \n",
      " 3   Origin       428 non-null    object \n",
      " 4   DriveTrain   428 non-null    object \n",
      " 5   MSRP         428 non-null    object \n",
      " 6   Invoice      428 non-null    object \n",
      " 7   EngineSize   428 non-null    float64\n",
      " 8   Cylinders    426 non-null    float64\n",
      " 9   Horsepower   428 non-null    int64  \n",
      " 10  MPG_City     428 non-null    int64  \n",
      " 11  MPG_Highway  428 non-null    int64  \n",
      " 12  Weight       428 non-null    int64  \n",
      " 13  Wheelbase    428 non-null    int64  \n",
      " 14  Length       428 non-null    int64  \n",
      "dtypes: float64(2), int64(6), object(7)\n",
      "memory usage: 50.3+ KB\n"
     ]
    }
   ],
   "source": [
    "df.info()"
   ]
  },
  {
   "cell_type": "markdown",
   "metadata": {
    "colab_type": "text",
    "id": "fLXk51It-LFY"
   },
   "source": [
    "Transformando os dados para o formato numérico."
   ]
  },
  {
   "cell_type": "code",
   "execution_count": 8,
   "metadata": {
    "colab": {},
    "colab_type": "code",
    "executionInfo": {
     "elapsed": 1126,
     "status": "ok",
     "timestamp": 1596480434896,
     "user": {
      "displayName": "Felipe Santana",
      "photoUrl": "https://lh3.googleusercontent.com/a-/AOh14GgMc2wbpQbaVUnfYBetWGe9_J4RyeipR29kWtEliw=s64",
      "userId": "18224110012862864727"
     },
     "user_tz": 180
    },
    "id": "moGMIr59-Pu2"
   },
   "outputs": [],
   "source": [
    "df['MSRP']=pd.to_numeric(df['MSRP'],errors='coerce')"
   ]
  },
  {
   "cell_type": "code",
   "execution_count": 9,
   "metadata": {
    "colab": {
     "base_uri": "https://localhost:8080/",
     "height": 397
    },
    "colab_type": "code",
    "executionInfo": {
     "elapsed": 1317,
     "status": "ok",
     "timestamp": 1596480437473,
     "user": {
      "displayName": "Felipe Santana",
      "photoUrl": "https://lh3.googleusercontent.com/a-/AOh14GgMc2wbpQbaVUnfYBetWGe9_J4RyeipR29kWtEliw=s64",
      "userId": "18224110012862864727"
     },
     "user_tz": 180
    },
    "id": "yck0iJT0_jPN",
    "outputId": "0737a941-5665-4176-c510-f6b149a7b3ac"
   },
   "outputs": [
    {
     "name": "stdout",
     "output_type": "stream",
     "text": [
      "<class 'pandas.core.frame.DataFrame'>\n",
      "RangeIndex: 428 entries, 0 to 427\n",
      "Data columns (total 15 columns):\n",
      " #   Column       Non-Null Count  Dtype  \n",
      "---  ------       --------------  -----  \n",
      " 0   Make         428 non-null    object \n",
      " 1   Model        428 non-null    object \n",
      " 2   Type         428 non-null    object \n",
      " 3   Origin       428 non-null    object \n",
      " 4   DriveTrain   428 non-null    object \n",
      " 5   MSRP         428 non-null    int64  \n",
      " 6   Invoice      428 non-null    object \n",
      " 7   EngineSize   428 non-null    float64\n",
      " 8   Cylinders    426 non-null    float64\n",
      " 9   Horsepower   428 non-null    int64  \n",
      " 10  MPG_City     428 non-null    int64  \n",
      " 11  MPG_Highway  428 non-null    int64  \n",
      " 12  Weight       428 non-null    int64  \n",
      " 13  Wheelbase    428 non-null    int64  \n",
      " 14  Length       428 non-null    int64  \n",
      "dtypes: float64(2), int64(7), object(6)\n",
      "memory usage: 50.3+ KB\n"
     ]
    }
   ],
   "source": [
    "df.info()"
   ]
  },
  {
   "cell_type": "code",
   "execution_count": 10,
   "metadata": {
    "colab": {
     "base_uri": "https://localhost:8080/",
     "height": 288
    },
    "colab_type": "code",
    "executionInfo": {
     "elapsed": 1160,
     "status": "ok",
     "timestamp": 1596480451600,
     "user": {
      "displayName": "Felipe Santana",
      "photoUrl": "https://lh3.googleusercontent.com/a-/AOh14GgMc2wbpQbaVUnfYBetWGe9_J4RyeipR29kWtEliw=s64",
      "userId": "18224110012862864727"
     },
     "user_tz": 180
    },
    "id": "5ox0DXSg4FXa",
    "outputId": "898efe5e-6478-47bf-cac0-f490e559f0c1"
   },
   "outputs": [
    {
     "data": {
      "text/html": [
       "<div>\n",
       "<style scoped>\n",
       "    .dataframe tbody tr th:only-of-type {\n",
       "        vertical-align: middle;\n",
       "    }\n",
       "\n",
       "    .dataframe tbody tr th {\n",
       "        vertical-align: top;\n",
       "    }\n",
       "\n",
       "    .dataframe thead th {\n",
       "        text-align: right;\n",
       "    }\n",
       "</style>\n",
       "<table border=\"1\" class=\"dataframe\">\n",
       "  <thead>\n",
       "    <tr style=\"text-align: right;\">\n",
       "      <th></th>\n",
       "      <th>MSRP</th>\n",
       "      <th>EngineSize</th>\n",
       "      <th>Cylinders</th>\n",
       "      <th>Horsepower</th>\n",
       "      <th>MPG_City</th>\n",
       "      <th>MPG_Highway</th>\n",
       "      <th>Weight</th>\n",
       "      <th>Wheelbase</th>\n",
       "      <th>Length</th>\n",
       "    </tr>\n",
       "  </thead>\n",
       "  <tbody>\n",
       "    <tr>\n",
       "      <th>count</th>\n",
       "      <td>428.000000</td>\n",
       "      <td>428.000000</td>\n",
       "      <td>426.000000</td>\n",
       "      <td>428.000000</td>\n",
       "      <td>428.000000</td>\n",
       "      <td>428.000000</td>\n",
       "      <td>428.000000</td>\n",
       "      <td>428.000000</td>\n",
       "      <td>428.000000</td>\n",
       "    </tr>\n",
       "    <tr>\n",
       "      <th>mean</th>\n",
       "      <td>32774.855140</td>\n",
       "      <td>3.196729</td>\n",
       "      <td>5.807512</td>\n",
       "      <td>215.885514</td>\n",
       "      <td>20.060748</td>\n",
       "      <td>26.843458</td>\n",
       "      <td>3577.953271</td>\n",
       "      <td>108.154206</td>\n",
       "      <td>186.362150</td>\n",
       "    </tr>\n",
       "    <tr>\n",
       "      <th>std</th>\n",
       "      <td>19431.716674</td>\n",
       "      <td>1.108595</td>\n",
       "      <td>1.558443</td>\n",
       "      <td>71.836032</td>\n",
       "      <td>5.238218</td>\n",
       "      <td>5.741201</td>\n",
       "      <td>758.983215</td>\n",
       "      <td>8.311813</td>\n",
       "      <td>14.357991</td>\n",
       "    </tr>\n",
       "    <tr>\n",
       "      <th>min</th>\n",
       "      <td>10280.000000</td>\n",
       "      <td>1.300000</td>\n",
       "      <td>3.000000</td>\n",
       "      <td>73.000000</td>\n",
       "      <td>10.000000</td>\n",
       "      <td>12.000000</td>\n",
       "      <td>1850.000000</td>\n",
       "      <td>89.000000</td>\n",
       "      <td>143.000000</td>\n",
       "    </tr>\n",
       "    <tr>\n",
       "      <th>25%</th>\n",
       "      <td>20334.250000</td>\n",
       "      <td>2.375000</td>\n",
       "      <td>4.000000</td>\n",
       "      <td>165.000000</td>\n",
       "      <td>17.000000</td>\n",
       "      <td>24.000000</td>\n",
       "      <td>3104.000000</td>\n",
       "      <td>103.000000</td>\n",
       "      <td>178.000000</td>\n",
       "    </tr>\n",
       "    <tr>\n",
       "      <th>50%</th>\n",
       "      <td>27635.000000</td>\n",
       "      <td>3.000000</td>\n",
       "      <td>6.000000</td>\n",
       "      <td>210.000000</td>\n",
       "      <td>19.000000</td>\n",
       "      <td>26.000000</td>\n",
       "      <td>3474.500000</td>\n",
       "      <td>107.000000</td>\n",
       "      <td>187.000000</td>\n",
       "    </tr>\n",
       "    <tr>\n",
       "      <th>75%</th>\n",
       "      <td>39205.000000</td>\n",
       "      <td>3.900000</td>\n",
       "      <td>6.000000</td>\n",
       "      <td>255.000000</td>\n",
       "      <td>21.250000</td>\n",
       "      <td>29.000000</td>\n",
       "      <td>3977.750000</td>\n",
       "      <td>112.000000</td>\n",
       "      <td>194.000000</td>\n",
       "    </tr>\n",
       "    <tr>\n",
       "      <th>max</th>\n",
       "      <td>192465.000000</td>\n",
       "      <td>8.300000</td>\n",
       "      <td>12.000000</td>\n",
       "      <td>500.000000</td>\n",
       "      <td>60.000000</td>\n",
       "      <td>66.000000</td>\n",
       "      <td>7190.000000</td>\n",
       "      <td>144.000000</td>\n",
       "      <td>238.000000</td>\n",
       "    </tr>\n",
       "  </tbody>\n",
       "</table>\n",
       "</div>"
      ],
      "text/plain": [
       "                MSRP  EngineSize   Cylinders  Horsepower    MPG_City  \\\n",
       "count     428.000000  428.000000  426.000000  428.000000  428.000000   \n",
       "mean    32774.855140    3.196729    5.807512  215.885514   20.060748   \n",
       "std     19431.716674    1.108595    1.558443   71.836032    5.238218   \n",
       "min     10280.000000    1.300000    3.000000   73.000000   10.000000   \n",
       "25%     20334.250000    2.375000    4.000000  165.000000   17.000000   \n",
       "50%     27635.000000    3.000000    6.000000  210.000000   19.000000   \n",
       "75%     39205.000000    3.900000    6.000000  255.000000   21.250000   \n",
       "max    192465.000000    8.300000   12.000000  500.000000   60.000000   \n",
       "\n",
       "       MPG_Highway       Weight   Wheelbase      Length  \n",
       "count   428.000000   428.000000  428.000000  428.000000  \n",
       "mean     26.843458  3577.953271  108.154206  186.362150  \n",
       "std       5.741201   758.983215    8.311813   14.357991  \n",
       "min      12.000000  1850.000000   89.000000  143.000000  \n",
       "25%      24.000000  3104.000000  103.000000  178.000000  \n",
       "50%      26.000000  3474.500000  107.000000  187.000000  \n",
       "75%      29.000000  3977.750000  112.000000  194.000000  \n",
       "max      66.000000  7190.000000  144.000000  238.000000  "
      ]
     },
     "execution_count": 10,
     "metadata": {},
     "output_type": "execute_result"
    }
   ],
   "source": [
    "df.describe()"
   ]
  },
  {
   "cell_type": "markdown",
   "metadata": {
    "colab_type": "text",
    "id": "ImsZg0Zs49vT"
   },
   "source": [
    "Calculando a média aritmética."
   ]
  },
  {
   "cell_type": "code",
   "execution_count": 11,
   "metadata": {
    "colab": {
     "base_uri": "https://localhost:8080/",
     "height": 35
    },
    "colab_type": "code",
    "executionInfo": {
     "elapsed": 1063,
     "status": "ok",
     "timestamp": 1596480480475,
     "user": {
      "displayName": "Felipe Santana",
      "photoUrl": "https://lh3.googleusercontent.com/a-/AOh14GgMc2wbpQbaVUnfYBetWGe9_J4RyeipR29kWtEliw=s64",
      "userId": "18224110012862864727"
     },
     "user_tz": 180
    },
    "id": "3seXVSmG4thu",
    "outputId": "b7f74008-3a50-42f7-d26a-98036bee4b2d"
   },
   "outputs": [
    {
     "data": {
      "text/plain": [
       "32774.85514018692"
      ]
     },
     "execution_count": 11,
     "metadata": {},
     "output_type": "execute_result"
    }
   ],
   "source": [
    "df[\"MSRP\"].mean()"
   ]
  },
  {
   "cell_type": "markdown",
   "metadata": {
    "colab_type": "text",
    "id": "VSKZh0yU7I5r"
   },
   "source": [
    "Mediana"
   ]
  },
  {
   "cell_type": "code",
   "execution_count": 12,
   "metadata": {
    "colab": {
     "base_uri": "https://localhost:8080/",
     "height": 35
    },
    "colab_type": "code",
    "executionInfo": {
     "elapsed": 863,
     "status": "ok",
     "timestamp": 1596480572073,
     "user": {
      "displayName": "Felipe Santana",
      "photoUrl": "https://lh3.googleusercontent.com/a-/AOh14GgMc2wbpQbaVUnfYBetWGe9_J4RyeipR29kWtEliw=s64",
      "userId": "18224110012862864727"
     },
     "user_tz": 180
    },
    "id": "bKjUXqop5Ohr",
    "outputId": "22b2cbf5-d091-480a-bd80-89496af5f507"
   },
   "outputs": [
    {
     "data": {
      "text/plain": [
       "27635.0"
      ]
     },
     "execution_count": 12,
     "metadata": {},
     "output_type": "execute_result"
    }
   ],
   "source": [
    "df[\"MSRP\"].median()"
   ]
  },
  {
   "cell_type": "markdown",
   "metadata": {
    "colab_type": "text",
    "id": "mpcgkQFt7Kjx"
   },
   "source": [
    "Moda"
   ]
  },
  {
   "cell_type": "code",
   "execution_count": 13,
   "metadata": {
    "colab": {},
    "colab_type": "code",
    "id": "QXYVS8F15O1G"
   },
   "outputs": [
    {
     "data": {
      "text/plain": [
       "0     13270\n",
       "1     15389\n",
       "2     19635\n",
       "3     19860\n",
       "4     21055\n",
       "5     21595\n",
       "6     23495\n",
       "7     23895\n",
       "8     25700\n",
       "9     27490\n",
       "10    28495\n",
       "11    29995\n",
       "12    31545\n",
       "13    33995\n",
       "14    34495\n",
       "15    35940\n",
       "16    49995\n",
       "17    74995\n",
       "Name: MSRP, dtype: int64"
      ]
     },
     "execution_count": 13,
     "metadata": {},
     "output_type": "execute_result"
    }
   ],
   "source": [
    "df[\"MSRP\"].mode()"
   ]
  },
  {
   "cell_type": "code",
   "execution_count": 14,
   "metadata": {},
   "outputs": [
    {
     "data": {
      "text/plain": [
       "33995    2\n",
       "21595    2\n",
       "29995    2\n",
       "28495    2\n",
       "23495    2\n",
       "        ..\n",
       "33540    1\n",
       "22010    1\n",
       "37530    1\n",
       "29380    1\n",
       "35145    1\n",
       "Name: MSRP, Length: 410, dtype: int64"
      ]
     },
     "execution_count": 14,
     "metadata": {},
     "output_type": "execute_result"
    }
   ],
   "source": [
    "df[\"MSRP\"].value_counts()"
   ]
  },
  {
   "cell_type": "markdown",
   "metadata": {
    "colab_type": "text",
    "id": "xMkxCcZH7L1p"
   },
   "source": [
    "Variação"
   ]
  },
  {
   "cell_type": "code",
   "execution_count": 15,
   "metadata": {
    "colab": {
     "base_uri": "https://localhost:8080/",
     "height": 35
    },
    "colab_type": "code",
    "executionInfo": {
     "elapsed": 1043,
     "status": "ok",
     "timestamp": 1596480605802,
     "user": {
      "displayName": "Felipe Santana",
      "photoUrl": "https://lh3.googleusercontent.com/a-/AOh14GgMc2wbpQbaVUnfYBetWGe9_J4RyeipR29kWtEliw=s64",
      "userId": "18224110012862864727"
     },
     "user_tz": 180
    },
    "id": "NmkXCMna5Pll",
    "outputId": "e7b12aaa-b665-4ab1-8e49-e485e1f9add8"
   },
   "outputs": [
    {
     "data": {
      "text/plain": [
       "377591612.88763136"
      ]
     },
     "execution_count": 15,
     "metadata": {},
     "output_type": "execute_result"
    }
   ],
   "source": [
    "df[\"MSRP\"].var()"
   ]
  },
  {
   "cell_type": "markdown",
   "metadata": {
    "colab_type": "text",
    "id": "HJrbuWPK7N56"
   },
   "source": [
    "Desvio padrão"
   ]
  },
  {
   "cell_type": "code",
   "execution_count": 16,
   "metadata": {
    "colab": {
     "base_uri": "https://localhost:8080/",
     "height": 35
    },
    "colab_type": "code",
    "executionInfo": {
     "elapsed": 927,
     "status": "ok",
     "timestamp": 1596480626166,
     "user": {
      "displayName": "Felipe Santana",
      "photoUrl": "https://lh3.googleusercontent.com/a-/AOh14GgMc2wbpQbaVUnfYBetWGe9_J4RyeipR29kWtEliw=s64",
      "userId": "18224110012862864727"
     },
     "user_tz": 180
    },
    "id": "DG3C-Hp95PRt",
    "outputId": "312ae2f4-f082-4433-c1a5-5ffa4a84c4fa"
   },
   "outputs": [
    {
     "data": {
      "text/plain": [
       "19431.716673717518"
      ]
     },
     "execution_count": 16,
     "metadata": {},
     "output_type": "execute_result"
    }
   ],
   "source": [
    "df[\"MSRP\"].std()"
   ]
  },
  {
   "cell_type": "markdown",
   "metadata": {
    "colab_type": "text",
    "id": "JDt5DAiC7QwB"
   },
   "source": [
    "Valor máximo."
   ]
  },
  {
   "cell_type": "code",
   "execution_count": 17,
   "metadata": {
    "colab": {
     "base_uri": "https://localhost:8080/",
     "height": 35
    },
    "colab_type": "code",
    "executionInfo": {
     "elapsed": 1265,
     "status": "ok",
     "timestamp": 1596480634106,
     "user": {
      "displayName": "Felipe Santana",
      "photoUrl": "https://lh3.googleusercontent.com/a-/AOh14GgMc2wbpQbaVUnfYBetWGe9_J4RyeipR29kWtEliw=s64",
      "userId": "18224110012862864727"
     },
     "user_tz": 180
    },
    "id": "RM8QdsTK5QHo",
    "outputId": "181aeb26-5b63-4993-8cdb-fe33e5292aaf"
   },
   "outputs": [
    {
     "data": {
      "text/plain": [
       "192465"
      ]
     },
     "execution_count": 17,
     "metadata": {},
     "output_type": "execute_result"
    }
   ],
   "source": [
    "df[\"MSRP\"].max()"
   ]
  },
  {
   "cell_type": "markdown",
   "metadata": {
    "colab_type": "text",
    "id": "f5-eXcMC7Tom"
   },
   "source": [
    "Valor mínimo"
   ]
  },
  {
   "cell_type": "code",
   "execution_count": 18,
   "metadata": {
    "colab": {
     "base_uri": "https://localhost:8080/",
     "height": 35
    },
    "colab_type": "code",
    "executionInfo": {
     "elapsed": 1150,
     "status": "ok",
     "timestamp": 1596480638163,
     "user": {
      "displayName": "Felipe Santana",
      "photoUrl": "https://lh3.googleusercontent.com/a-/AOh14GgMc2wbpQbaVUnfYBetWGe9_J4RyeipR29kWtEliw=s64",
      "userId": "18224110012862864727"
     },
     "user_tz": 180
    },
    "id": "HR7oitrC5Qvn",
    "outputId": "cf6dbe11-55d8-4075-ddb4-cf625a6aa161"
   },
   "outputs": [
    {
     "data": {
      "text/plain": [
       "10280"
      ]
     },
     "execution_count": 18,
     "metadata": {},
     "output_type": "execute_result"
    }
   ],
   "source": [
    "df[\"MSRP\"].min()"
   ]
  },
  {
   "cell_type": "markdown",
   "metadata": {
    "colab_type": "text",
    "id": "Y-GnN7OQ_Ozh"
   },
   "source": [
    "# Medidas de Assimetria\n",
    "Nos possibilitam analisar uma distribuição em relação a sua moda, mediana e média."
   ]
  },
  {
   "cell_type": "code",
   "execution_count": 19,
   "metadata": {
    "colab": {},
    "colab_type": "code",
    "executionInfo": {
     "elapsed": 1166,
     "status": "ok",
     "timestamp": 1596483627154,
     "user": {
      "displayName": "Felipe Santana",
      "photoUrl": "https://lh3.googleusercontent.com/a-/AOh14GgMc2wbpQbaVUnfYBetWGe9_J4RyeipR29kWtEliw=s64",
      "userId": "18224110012862864727"
     },
     "user_tz": 180
    },
    "id": "kLhqAiHgKQXl"
   },
   "outputs": [],
   "source": [
    "import matplotlib.pyplot as plt\n",
    "import math\n",
    "import numpy as np\n",
    "import seaborn as sns\n",
    "import pandas as pd\n",
    "from scipy import stats\n",
    "%matplotlib inline"
   ]
  },
  {
   "cell_type": "markdown",
   "metadata": {
    "colab_type": "text",
    "id": "qNCNECw3iTuL"
   },
   "source": [
    "Função para calcular estatísticas."
   ]
  },
  {
   "cell_type": "code",
   "execution_count": 20,
   "metadata": {
    "colab": {},
    "colab_type": "code",
    "executionInfo": {
     "elapsed": 945,
     "status": "ok",
     "timestamp": 1596483631500,
     "user": {
      "displayName": "Felipe Santana",
      "photoUrl": "https://lh3.googleusercontent.com/a-/AOh14GgMc2wbpQbaVUnfYBetWGe9_J4RyeipR29kWtEliw=s64",
      "userId": "18224110012862864727"
     },
     "user_tz": 180
    },
    "id": "K0XMPqwHDW-k"
   },
   "outputs": [],
   "source": [
    "def calcula_estatisticas(data):\n",
    "  mean = round(np.mean(data),2)\n",
    "  mode = round(stats.mode(data,)[0][0],2)\n",
    "  median = round(np.median(data),2)\n",
    "  var = round(np.var(data),2)\n",
    "  std = round(np.std(data),2)\n",
    "  msg = print(\"Media: {}\\nModa: {}\\nMediana: {}\\nVariância: {}\\nDesvio Padrão: {}\".format(mean,median,mode,var,std))\n",
    "  return msg"
   ]
  },
  {
   "cell_type": "markdown",
   "metadata": {
    "colab_type": "text",
    "id": "Za5Hltx1l3pR"
   },
   "source": [
    "Considere a seguinte amostra."
   ]
  },
  {
   "cell_type": "code",
   "execution_count": 21,
   "metadata": {
    "colab": {},
    "colab_type": "code",
    "executionInfo": {
     "elapsed": 1322,
     "status": "ok",
     "timestamp": 1596483687416,
     "user": {
      "displayName": "Felipe Santana",
      "photoUrl": "https://lh3.googleusercontent.com/a-/AOh14GgMc2wbpQbaVUnfYBetWGe9_J4RyeipR29kWtEliw=s64",
      "userId": "18224110012862864727"
     },
     "user_tz": 180
    },
    "id": "NbLEtUIGbazs"
   },
   "outputs": [],
   "source": [
    "s0 = [4,5,6,5,5,6,6,5,4,5,5,5]"
   ]
  },
  {
   "cell_type": "code",
   "execution_count": 22,
   "metadata": {
    "colab": {
     "base_uri": "https://localhost:8080/",
     "height": 138
    },
    "colab_type": "code",
    "executionInfo": {
     "elapsed": 876,
     "status": "ok",
     "timestamp": 1596483687946,
     "user": {
      "displayName": "Felipe Santana",
      "photoUrl": "https://lh3.googleusercontent.com/a-/AOh14GgMc2wbpQbaVUnfYBetWGe9_J4RyeipR29kWtEliw=s64",
      "userId": "18224110012862864727"
     },
     "user_tz": 180
    },
    "id": "ULWk2vH8e0Wp",
    "outputId": "69856645-d875-4155-bbf7-58a3606bf8ff"
   },
   "outputs": [
    {
     "name": "stdout",
     "output_type": "stream",
     "text": [
      "Media: 5.08\n",
      "Moda: 5.0\n",
      "Mediana: 5\n",
      "Variância: 0.41\n",
      "Desvio Padrão: 0.64\n"
     ]
    }
   ],
   "source": [
    "calcula_estatisticas(s0)"
   ]
  },
  {
   "cell_type": "markdown",
   "metadata": {
    "colab_type": "text",
    "id": "oF8uzpKnb3Rp"
   },
   "source": [
    "### Gerando dados aleatórios"
   ]
  },
  {
   "cell_type": "markdown",
   "metadata": {
    "colab_type": "text",
    "id": "J6NW6-MxcAu-"
   },
   "source": [
    "Amostra seguindo uma distribuição normal"
   ]
  },
  {
   "cell_type": "code",
   "execution_count": 23,
   "metadata": {
    "colab": {},
    "colab_type": "code",
    "executionInfo": {
     "elapsed": 1354,
     "status": "ok",
     "timestamp": 1596484239672,
     "user": {
      "displayName": "Felipe Santana",
      "photoUrl": "https://lh3.googleusercontent.com/a-/AOh14GgMc2wbpQbaVUnfYBetWGe9_J4RyeipR29kWtEliw=s64",
      "userId": "18224110012862864727"
     },
     "user_tz": 180
    },
    "id": "6BfqAwCWb8yV"
   },
   "outputs": [],
   "source": [
    "sample_normal = np.random.normal(1,0.5,500)"
   ]
  },
  {
   "cell_type": "code",
   "execution_count": 24,
   "metadata": {
    "colab": {
     "base_uri": "https://localhost:8080/",
     "height": 52
    },
    "colab_type": "code",
    "executionInfo": {
     "elapsed": 1116,
     "status": "ok",
     "timestamp": 1596484242893,
     "user": {
      "displayName": "Felipe Santana",
      "photoUrl": "https://lh3.googleusercontent.com/a-/AOh14GgMc2wbpQbaVUnfYBetWGe9_J4RyeipR29kWtEliw=s64",
      "userId": "18224110012862864727"
     },
     "user_tz": 180
    },
    "id": "zchoS29UcbyG",
    "outputId": "8eb6eb07-62ec-4588-aca0-e5fcabfd4a12"
   },
   "outputs": [
    {
     "data": {
      "text/plain": [
       "array([1.07636185, 1.28607795, 1.02097367, 1.96542335, 0.91765991,\n",
       "       0.98172953, 0.75364693, 1.28061027, 0.82757643, 1.05083079])"
      ]
     },
     "execution_count": 24,
     "metadata": {},
     "output_type": "execute_result"
    }
   ],
   "source": [
    "sample_normal[:10]"
   ]
  },
  {
   "cell_type": "code",
   "execution_count": 25,
   "metadata": {
    "colab": {
     "base_uri": "https://localhost:8080/",
     "height": 138
    },
    "colab_type": "code",
    "executionInfo": {
     "elapsed": 1032,
     "status": "ok",
     "timestamp": 1596484259093,
     "user": {
      "displayName": "Felipe Santana",
      "photoUrl": "https://lh3.googleusercontent.com/a-/AOh14GgMc2wbpQbaVUnfYBetWGe9_J4RyeipR29kWtEliw=s64",
      "userId": "18224110012862864727"
     },
     "user_tz": 180
    },
    "id": "_CYgTuMLccQG",
    "outputId": "34b8689a-b9df-4751-b62a-69e5f7ea4aa6"
   },
   "outputs": [
    {
     "name": "stdout",
     "output_type": "stream",
     "text": [
      "Media: 1.01\n",
      "Moda: 1.0\n",
      "Mediana: -0.3\n",
      "Variância: 0.25\n",
      "Desvio Padrão: 0.5\n"
     ]
    }
   ],
   "source": [
    "calcula_estatisticas(sample_normal)"
   ]
  },
  {
   "cell_type": "markdown",
   "metadata": {
    "colab_type": "text",
    "id": "0Q6_3QoVquiP"
   },
   "source": [
    "Visualizando a distribuição"
   ]
  },
  {
   "cell_type": "code",
   "execution_count": 26,
   "metadata": {
    "colab": {
     "base_uri": "https://localhost:8080/",
     "height": 282
    },
    "colab_type": "code",
    "executionInfo": {
     "elapsed": 1348,
     "status": "ok",
     "timestamp": 1596484292730,
     "user": {
      "displayName": "Felipe Santana",
      "photoUrl": "https://lh3.googleusercontent.com/a-/AOh14GgMc2wbpQbaVUnfYBetWGe9_J4RyeipR29kWtEliw=s64",
      "userId": "18224110012862864727"
     },
     "user_tz": 180
    },
    "id": "JrsQJ1Zecvbi",
    "outputId": "a7282018-2fa3-4742-cf39-11bd3a2b6761"
   },
   "outputs": [
    {
     "name": "stderr",
     "output_type": "stream",
     "text": [
      "c:\\Users\\talmeidar\\Anaconda3\\lib\\site-packages\\seaborn\\distributions.py:2619: FutureWarning: `distplot` is a deprecated function and will be removed in a future version. Please adapt your code to use either `displot` (a figure-level function with similar flexibility) or `histplot` (an axes-level function for histograms).\n",
      "  warnings.warn(msg, FutureWarning)\n"
     ]
    },
    {
     "data": {
      "text/plain": [
       "<AxesSubplot:ylabel='Density'>"
      ]
     },
     "execution_count": 26,
     "metadata": {},
     "output_type": "execute_result"
    },
    {
     "data": {
      "image/png": "[encoded data removed]",
      "text/plain": [
       "<Figure size 864x288 with 1 Axes>"
      ]
     },
     "metadata": {
      "needs_background": "light"
     },
     "output_type": "display_data"
    }
   ],
   "source": [
    "fig = plt.figure(figsize=(12, 4))\n",
    "sns.distplot(sample_normal)"
   ]
  },
  {
   "cell_type": "markdown",
   "metadata": {
    "colab_type": "text",
    "id": "FV7S-RxqkKZV"
   },
   "source": [
    "Distribuição simétrica."
   ]
  },
  {
   "cell_type": "markdown",
   "metadata": {
    "colab_type": "text",
    "id": "mAxxYa8gkbX7"
   },
   "source": [
    "Considere o seguinte exemplo"
   ]
  },
  {
   "cell_type": "code",
   "execution_count": 27,
   "metadata": {
    "colab": {},
    "colab_type": "code",
    "executionInfo": {
     "elapsed": 2559,
     "status": "ok",
     "timestamp": 1596484398930,
     "user": {
      "displayName": "Felipe Santana",
      "photoUrl": "https://lh3.googleusercontent.com/a-/AOh14GgMc2wbpQbaVUnfYBetWGe9_J4RyeipR29kWtEliw=s64",
      "userId": "18224110012862864727"
     },
     "user_tz": 180
    },
    "id": "uW3QO11DdQav"
   },
   "outputs": [],
   "source": [
    "exp = np.arange(2,len(sample_normal),2)"
   ]
  },
  {
   "cell_type": "markdown",
   "metadata": {
    "colab_type": "text",
    "id": "asXn1lqKp8y1"
   },
   "source": [
    "Verificando os expoentes"
   ]
  },
  {
   "cell_type": "code",
   "execution_count": 28,
   "metadata": {
    "colab": {
     "base_uri": "https://localhost:8080/",
     "height": 35
    },
    "colab_type": "code",
    "executionInfo": {
     "elapsed": 1280,
     "status": "ok",
     "timestamp": 1596484403705,
     "user": {
      "displayName": "Felipe Santana",
      "photoUrl": "https://lh3.googleusercontent.com/a-/AOh14GgMc2wbpQbaVUnfYBetWGe9_J4RyeipR29kWtEliw=s64",
      "userId": "18224110012862864727"
     },
     "user_tz": 180
    },
    "id": "46Qu1pdHqAB6",
    "outputId": "8f4c7921-79df-4bab-e2f0-567f0a3f275a"
   },
   "outputs": [
    {
     "data": {
      "text/plain": [
       "array([ 2,  4,  6,  8, 10, 12, 14, 16, 18, 20])"
      ]
     },
     "execution_count": 28,
     "metadata": {},
     "output_type": "execute_result"
    }
   ],
   "source": [
    "exp[:10]"
   ]
  },
  {
   "cell_type": "markdown",
   "metadata": {
    "colab_type": "text",
    "id": "fMJhS8TXqUWh"
   },
   "source": [
    "Gerando uma distribuição assimétrica positiva"
   ]
  },
  {
   "cell_type": "code",
   "execution_count": 29,
   "metadata": {
    "colab": {},
    "colab_type": "code",
    "executionInfo": {
     "elapsed": 1146,
     "status": "ok",
     "timestamp": 1596484489779,
     "user": {
      "displayName": "Felipe Santana",
      "photoUrl": "https://lh3.googleusercontent.com/a-/AOh14GgMc2wbpQbaVUnfYBetWGe9_J4RyeipR29kWtEliw=s64",
      "userId": "18224110012862864727"
     },
     "user_tz": 180
    },
    "id": "sbVpQLxFqY0D"
   },
   "outputs": [],
   "source": [
    "sample_assimetrica_positiva = []\n",
    "for s,e in zip(sample_normal,exp):\n",
    "    sample_assimetrica_positiva.append(s*e)"
   ]
  },
  {
   "cell_type": "code",
   "execution_count": 30,
   "metadata": {
    "colab": {
     "base_uri": "https://localhost:8080/",
     "height": 138
    },
    "colab_type": "code",
    "executionInfo": {
     "elapsed": 1132,
     "status": "ok",
     "timestamp": 1596484493071,
     "user": {
      "displayName": "Felipe Santana",
      "photoUrl": "https://lh3.googleusercontent.com/a-/AOh14GgMc2wbpQbaVUnfYBetWGe9_J4RyeipR29kWtEliw=s64",
      "userId": "18224110012862864727"
     },
     "user_tz": 180
    },
    "id": "I0LFL3ZidTvS",
    "outputId": "3b4ec2c4-ba44-428b-fb57-707431920442"
   },
   "outputs": [
    {
     "name": "stdout",
     "output_type": "stream",
     "text": [
      "Media: 257.14\n",
      "Moda: 215.0\n",
      "Mediana: -122.11\n",
      "Variância: 48329.15\n",
      "Desvio Padrão: 219.84\n"
     ]
    }
   ],
   "source": [
    "calcula_estatisticas(sample_assimetrica_positiva)"
   ]
  },
  {
   "cell_type": "markdown",
   "metadata": {
    "colab_type": "text",
    "id": "oH0wf72Iq8zE"
   },
   "source": [
    "Visualizando a distribuição"
   ]
  },
  {
   "cell_type": "code",
   "execution_count": 31,
   "metadata": {
    "colab": {
     "base_uri": "https://localhost:8080/",
     "height": 282
    },
    "colab_type": "code",
    "executionInfo": {
     "elapsed": 991,
     "status": "ok",
     "timestamp": 1596484525815,
     "user": {
      "displayName": "Felipe Santana",
      "photoUrl": "https://lh3.googleusercontent.com/a-/AOh14GgMc2wbpQbaVUnfYBetWGe9_J4RyeipR29kWtEliw=s64",
      "userId": "18224110012862864727"
     },
     "user_tz": 180
    },
    "id": "mxr5jPv0dg8F",
    "outputId": "0af7c626-a0ba-40d7-89e6-d0a734c6d9e9"
   },
   "outputs": [
    {
     "name": "stderr",
     "output_type": "stream",
     "text": [
      "c:\\Users\\talmeidar\\Anaconda3\\lib\\site-packages\\seaborn\\distributions.py:2619: FutureWarning: `distplot` is a deprecated function and will be removed in a future version. Please adapt your code to use either `displot` (a figure-level function with similar flexibility) or `histplot` (an axes-level function for histograms).\n",
      "  warnings.warn(msg, FutureWarning)\n"
     ]
    },
    {
     "data": {
      "text/plain": [
       "<AxesSubplot:ylabel='Density'>"
      ]
     },
     "execution_count": 31,
     "metadata": {},
     "output_type": "execute_result"
    },
    {
     "data": {
      "image/png": "[encoded data removed]",
      "text/plain": [
       "<Figure size 432x288 with 1 Axes>"
      ]
     },
     "metadata": {
      "needs_background": "light"
     },
     "output_type": "display_data"
    }
   ],
   "source": [
    "sns.distplot(sample_assimetrica_positiva)"
   ]
  },
  {
   "cell_type": "markdown",
   "metadata": {
    "colab_type": "text",
    "id": "_xvT6EIErDOz"
   },
   "source": [
    "Gerando uma distribuição assimétrica negativa."
   ]
  },
  {
   "cell_type": "code",
   "execution_count": 32,
   "metadata": {
    "colab": {},
    "colab_type": "code",
    "executionInfo": {
     "elapsed": 1493,
     "status": "ok",
     "timestamp": 1596484607953,
     "user": {
      "displayName": "Felipe Santana",
      "photoUrl": "https://lh3.googleusercontent.com/a-/AOh14GgMc2wbpQbaVUnfYBetWGe9_J4RyeipR29kWtEliw=s64",
      "userId": "18224110012862864727"
     },
     "user_tz": 180
    },
    "id": "myDjnY8ldt41"
   },
   "outputs": [],
   "source": [
    "exp = (np.arange(2,len(sample_normal),2))*-1"
   ]
  },
  {
   "cell_type": "markdown",
   "metadata": {
    "colab_type": "text",
    "id": "biub1ntFrONb"
   },
   "source": [
    "Verificando os expoêntes"
   ]
  },
  {
   "cell_type": "code",
   "execution_count": 33,
   "metadata": {
    "colab": {
     "base_uri": "https://localhost:8080/",
     "height": 35
    },
    "colab_type": "code",
    "executionInfo": {
     "elapsed": 1804,
     "status": "ok",
     "timestamp": 1596484609986,
     "user": {
      "displayName": "Felipe Santana",
      "photoUrl": "https://lh3.googleusercontent.com/a-/AOh14GgMc2wbpQbaVUnfYBetWGe9_J4RyeipR29kWtEliw=s64",
      "userId": "18224110012862864727"
     },
     "user_tz": 180
    },
    "id": "yDf_W-EfsbRx",
    "outputId": "22b7edcc-7eac-4eda-e800-412b798e0919"
   },
   "outputs": [
    {
     "data": {
      "text/plain": [
       "array([ -2,  -4,  -6,  -8, -10, -12, -14, -16, -18, -20])"
      ]
     },
     "execution_count": 33,
     "metadata": {},
     "output_type": "execute_result"
    }
   ],
   "source": [
    "exp[:10]"
   ]
  },
  {
   "cell_type": "code",
   "execution_count": 34,
   "metadata": {
    "colab": {},
    "colab_type": "code",
    "executionInfo": {
     "elapsed": 1159,
     "status": "ok",
     "timestamp": 1596484617648,
     "user": {
      "displayName": "Felipe Santana",
      "photoUrl": "https://lh3.googleusercontent.com/a-/AOh14GgMc2wbpQbaVUnfYBetWGe9_J4RyeipR29kWtEliw=s64",
      "userId": "18224110012862864727"
     },
     "user_tz": 180
    },
    "id": "c4wOPyxXrTmC"
   },
   "outputs": [],
   "source": [
    "sample_assimetrica_negativa = []\n",
    "for s,e in zip(sample_normal,exp):\n",
    "    sample_assimetrica_negativa.append(s*e)"
   ]
  },
  {
   "cell_type": "code",
   "execution_count": 35,
   "metadata": {
    "colab": {
     "base_uri": "https://localhost:8080/",
     "height": 138
    },
    "colab_type": "code",
    "executionInfo": {
     "elapsed": 1149,
     "status": "ok",
     "timestamp": 1596484622807,
     "user": {
      "displayName": "Felipe Santana",
      "photoUrl": "https://lh3.googleusercontent.com/a-/AOh14GgMc2wbpQbaVUnfYBetWGe9_J4RyeipR29kWtEliw=s64",
      "userId": "18224110012862864727"
     },
     "user_tz": 180
    },
    "id": "HViRSD3cdzMu",
    "outputId": "aff1b8c5-9154-4bea-86dd-63246ea73d4e"
   },
   "outputs": [
    {
     "name": "stdout",
     "output_type": "stream",
     "text": [
      "Media: -257.14\n",
      "Moda: -215.0\n",
      "Mediana: -1211.8\n",
      "Variância: 48329.15\n",
      "Desvio Padrão: 219.84\n"
     ]
    }
   ],
   "source": [
    "calcula_estatisticas(sample_assimetrica_negativa)"
   ]
  },
  {
   "cell_type": "markdown",
   "metadata": {
    "colab_type": "text",
    "id": "hHgdoCI4tAku"
   },
   "source": [
    "Visualizando a distribuição"
   ]
  },
  {
   "cell_type": "code",
   "execution_count": 36,
   "metadata": {
    "colab": {
     "base_uri": "https://localhost:8080/",
     "height": 282
    },
    "colab_type": "code",
    "executionInfo": {
     "elapsed": 1250,
     "status": "ok",
     "timestamp": 1596484634700,
     "user": {
      "displayName": "Felipe Santana",
      "photoUrl": "https://lh3.googleusercontent.com/a-/AOh14GgMc2wbpQbaVUnfYBetWGe9_J4RyeipR29kWtEliw=s64",
      "userId": "18224110012862864727"
     },
     "user_tz": 180
    },
    "id": "1uG0y8oRd-OH",
    "outputId": "5ba9d1e4-e34c-4f68-c76f-f6a00f41ea6b"
   },
   "outputs": [
    {
     "name": "stderr",
     "output_type": "stream",
     "text": [
      "c:\\Users\\talmeidar\\Anaconda3\\lib\\site-packages\\seaborn\\distributions.py:2619: FutureWarning: `distplot` is a deprecated function and will be removed in a future version. Please adapt your code to use either `displot` (a figure-level function with similar flexibility) or `histplot` (an axes-level function for histograms).\n",
      "  warnings.warn(msg, FutureWarning)\n"
     ]
    },
    {
     "data": {
      "text/plain": [
       "<AxesSubplot:ylabel='Density'>"
      ]
     },
     "execution_count": 36,
     "metadata": {},
     "output_type": "execute_result"
    },
    {
     "data": {
      "image/png": "[encoded data removed]",
      "text/plain": [
       "<Figure size 432x288 with 1 Axes>"
      ]
     },
     "metadata": {
      "needs_background": "light"
     },
     "output_type": "display_data"
    }
   ],
   "source": [
    "sns.distplot(sample_assimetrica_negativa)"
   ]
  },
  {
   "cell_type": "markdown",
   "metadata": {
    "colab_type": "text",
    "id": "ebLUdedG7BfB"
   },
   "source": [
    "Verificando graficamente as distribuições dos atributos do Dataframe"
   ]
  },
  {
   "cell_type": "code",
   "execution_count": 37,
   "metadata": {
    "colab": {
     "base_uri": "https://localhost:8080/",
     "height": 725
    },
    "colab_type": "code",
    "executionInfo": {
     "elapsed": 3668,
     "status": "ok",
     "timestamp": 1596484761522,
     "user": {
      "displayName": "Felipe Santana",
      "photoUrl": "https://lh3.googleusercontent.com/a-/AOh14GgMc2wbpQbaVUnfYBetWGe9_J4RyeipR29kWtEliw=s64",
      "userId": "18224110012862864727"
     },
     "user_tz": 180
    },
    "id": "kxPwresA9ZbP",
    "outputId": "20927a93-558a-4f47-8ab0-67198937b318"
   },
   "outputs": [
    {
     "name": "stderr",
     "output_type": "stream",
     "text": [
      "c:\\Users\\talmeidar\\Anaconda3\\lib\\site-packages\\seaborn\\distributions.py:2619: FutureWarning: `distplot` is a deprecated function and will be removed in a future version. Please adapt your code to use either `displot` (a figure-level function with similar flexibility) or `histplot` (an axes-level function for histograms).\n",
      "  warnings.warn(msg, FutureWarning)\n",
      "c:\\Users\\talmeidar\\Anaconda3\\lib\\site-packages\\seaborn\\distributions.py:2619: FutureWarning: `distplot` is a deprecated function and will be removed in a future version. Please adapt your code to use either `displot` (a figure-level function with similar flexibility) or `histplot` (an axes-level function for histograms).\n",
      "  warnings.warn(msg, FutureWarning)\n",
      "c:\\Users\\talmeidar\\Anaconda3\\lib\\site-packages\\seaborn\\distributions.py:2619: FutureWarning: `distplot` is a deprecated function and will be removed in a future version. Please adapt your code to use either `displot` (a figure-level function with similar flexibility) or `histplot` (an axes-level function for histograms).\n",
      "  warnings.warn(msg, FutureWarning)\n",
      "c:\\Users\\talmeidar\\Anaconda3\\lib\\site-packages\\seaborn\\distributions.py:2619: FutureWarning: `distplot` is a deprecated function and will be removed in a future version. Please adapt your code to use either `displot` (a figure-level function with similar flexibility) or `histplot` (an axes-level function for histograms).\n",
      "  warnings.warn(msg, FutureWarning)\n",
      "c:\\Users\\talmeidar\\Anaconda3\\lib\\site-packages\\seaborn\\distributions.py:2619: FutureWarning: `distplot` is a deprecated function and will be removed in a future version. Please adapt your code to use either `displot` (a figure-level function with similar flexibility) or `histplot` (an axes-level function for histograms).\n",
      "  warnings.warn(msg, FutureWarning)\n",
      "c:\\Users\\talmeidar\\Anaconda3\\lib\\site-packages\\seaborn\\distributions.py:2619: FutureWarning: `distplot` is a deprecated function and will be removed in a future version. Please adapt your code to use either `displot` (a figure-level function with similar flexibility) or `histplot` (an axes-level function for histograms).\n",
      "  warnings.warn(msg, FutureWarning)\n",
      "c:\\Users\\talmeidar\\Anaconda3\\lib\\site-packages\\seaborn\\distributions.py:2619: FutureWarning: `distplot` is a deprecated function and will be removed in a future version. Please adapt your code to use either `displot` (a figure-level function with similar flexibility) or `histplot` (an axes-level function for histograms).\n",
      "  warnings.warn(msg, FutureWarning)\n",
      "c:\\Users\\talmeidar\\Anaconda3\\lib\\site-packages\\seaborn\\distributions.py:2619: FutureWarning: `distplot` is a deprecated function and will be removed in a future version. Please adapt your code to use either `displot` (a figure-level function with similar flexibility) or `histplot` (an axes-level function for histograms).\n",
      "  warnings.warn(msg, FutureWarning)\n",
      "c:\\Users\\talmeidar\\Anaconda3\\lib\\site-packages\\seaborn\\distributions.py:2619: FutureWarning: `distplot` is a deprecated function and will be removed in a future version. Please adapt your code to use either `displot` (a figure-level function with similar flexibility) or `histplot` (an axes-level function for histograms).\n",
      "  warnings.warn(msg, FutureWarning)\n"
     ]
    },
    {
     "data": {
      "image/png": "[encoded data removed]",
      "text/plain": [
       "<Figure size 1152x864 with 9 Axes>"
      ]
     },
     "metadata": {
      "needs_background": "light"
     },
     "output_type": "display_data"
    }
   ],
   "source": [
    "import matplotlib.pyplot as plt\n",
    "\n",
    "fig, axes = plt.subplots(nrows=3, ncols=3,figsize=(16, 12))\n",
    "for i, column in enumerate(df.select_dtypes(include=np.number).columns.tolist()):\n",
    "    sns.distplot(df[column],ax=axes[i//3,i%3])"
   ]
  },
  {
   "cell_type": "markdown",
   "metadata": {
    "colab_type": "text",
    "id": "0LUU8dMwzp7Q"
   },
   "source": [
    "Verificando a distribuição de probabilidade e a diferença entre a média e a mediana."
   ]
  },
  {
   "cell_type": "code",
   "execution_count": 38,
   "metadata": {
    "colab": {
     "base_uri": "https://localhost:8080/",
     "height": 173
    },
    "colab_type": "code",
    "executionInfo": {
     "elapsed": 1255,
     "status": "ok",
     "timestamp": 1596484901159,
     "user": {
      "displayName": "Felipe Santana",
      "photoUrl": "https://lh3.googleusercontent.com/a-/AOh14GgMc2wbpQbaVUnfYBetWGe9_J4RyeipR29kWtEliw=s64",
      "userId": "18224110012862864727"
     },
     "user_tz": 180
    },
    "id": "CIFmuOANerLw",
    "outputId": "bfc5ab7c-4fde-4137-9ea8-9c7303aa5828"
   },
   "outputs": [
    {
     "name": "stdout",
     "output_type": "stream",
     "text": [
      "Atributo: MSRP, Coeficiente de Variação: 59.29 %, Media: 32774.86, Mediana: 27635.0\n",
      "Atributo: EngineSize, Coeficiente de Variação: 34.64 %, Media: 3.2, Mediana: 3.0\n",
      "Atributo: Cylinders, Coeficiente de Variação: 26.82 %, Media: 5.81, Mediana: 6.0\n",
      "Atributo: Horsepower, Coeficiente de Variação: 33.27 %, Media: 215.89, Mediana: 210.0\n",
      "Atributo: MPG_City, Coeficiente de Variação: 26.11 %, Media: 20.06, Mediana: 19.0\n",
      "Atributo: MPG_Highway, Coeficiente de Variação: 21.39 %, Media: 26.84, Mediana: 26.0\n",
      "Atributo: Weight, Coeficiente de Variação: 21.21 %, Media: 3577.95, Mediana: 3474.5\n",
      "Atributo: Wheelbase, Coeficiente de Variação: 7.69 %, Media: 108.15, Mediana: 107.0\n",
      "Atributo: Length, Coeficiente de Variação: 7.7 %, Media: 186.36, Mediana: 187.0\n"
     ]
    }
   ],
   "source": [
    "for i, column in enumerate(df.select_dtypes(include=np.number).columns.tolist()):\n",
    "    media = round(df[column].mean(),2)\n",
    "    std = df[column].std()\n",
    "    cvar = round(std/media*100,2)\n",
    "    median = df[column].median()\n",
    "    print(\"Atributo: {}, Coeficiente de Variação: {} %, Media: {}, Mediana: {}\".format(column,cvar,media,median))"
   ]
  },
  {
   "cell_type": "code",
   "execution_count": 39,
   "metadata": {},
   "outputs": [
    {
     "data": {
      "text/html": [
       "<div>\n",
       "<style scoped>\n",
       "    .dataframe tbody tr th:only-of-type {\n",
       "        vertical-align: middle;\n",
       "    }\n",
       "\n",
       "    .dataframe tbody tr th {\n",
       "        vertical-align: top;\n",
       "    }\n",
       "\n",
       "    .dataframe thead th {\n",
       "        text-align: right;\n",
       "    }\n",
       "</style>\n",
       "<table border=\"1\" class=\"dataframe\">\n",
       "  <thead>\n",
       "    <tr style=\"text-align: right;\">\n",
       "      <th></th>\n",
       "      <th>Make</th>\n",
       "      <th>Model</th>\n",
       "      <th>Type</th>\n",
       "      <th>Origin</th>\n",
       "      <th>DriveTrain</th>\n",
       "      <th>MSRP</th>\n",
       "      <th>Invoice</th>\n",
       "      <th>EngineSize</th>\n",
       "      <th>Cylinders</th>\n",
       "      <th>Horsepower</th>\n",
       "      <th>MPG_City</th>\n",
       "      <th>MPG_Highway</th>\n",
       "      <th>Weight</th>\n",
       "      <th>Wheelbase</th>\n",
       "      <th>Length</th>\n",
       "    </tr>\n",
       "  </thead>\n",
       "  <tbody>\n",
       "    <tr>\n",
       "      <th>0</th>\n",
       "      <td>Acura</td>\n",
       "      <td>MDX</td>\n",
       "      <td>SUV</td>\n",
       "      <td>Asia</td>\n",
       "      <td>All</td>\n",
       "      <td>36945</td>\n",
       "      <td>$33,337</td>\n",
       "      <td>3.5</td>\n",
       "      <td>6.0</td>\n",
       "      <td>265</td>\n",
       "      <td>17</td>\n",
       "      <td>23</td>\n",
       "      <td>4451</td>\n",
       "      <td>106</td>\n",
       "      <td>189</td>\n",
       "    </tr>\n",
       "    <tr>\n",
       "      <th>1</th>\n",
       "      <td>Acura</td>\n",
       "      <td>RSX Type S 2dr</td>\n",
       "      <td>Sedan</td>\n",
       "      <td>Asia</td>\n",
       "      <td>Front</td>\n",
       "      <td>23820</td>\n",
       "      <td>$21,761</td>\n",
       "      <td>2.0</td>\n",
       "      <td>4.0</td>\n",
       "      <td>200</td>\n",
       "      <td>24</td>\n",
       "      <td>31</td>\n",
       "      <td>2778</td>\n",
       "      <td>101</td>\n",
       "      <td>172</td>\n",
       "    </tr>\n",
       "    <tr>\n",
       "      <th>2</th>\n",
       "      <td>Acura</td>\n",
       "      <td>TSX 4dr</td>\n",
       "      <td>Sedan</td>\n",
       "      <td>Asia</td>\n",
       "      <td>Front</td>\n",
       "      <td>26990</td>\n",
       "      <td>$24,647</td>\n",
       "      <td>2.4</td>\n",
       "      <td>4.0</td>\n",
       "      <td>200</td>\n",
       "      <td>22</td>\n",
       "      <td>29</td>\n",
       "      <td>3230</td>\n",
       "      <td>105</td>\n",
       "      <td>183</td>\n",
       "    </tr>\n",
       "    <tr>\n",
       "      <th>3</th>\n",
       "      <td>Acura</td>\n",
       "      <td>TL 4dr</td>\n",
       "      <td>Sedan</td>\n",
       "      <td>Asia</td>\n",
       "      <td>Front</td>\n",
       "      <td>33195</td>\n",
       "      <td>$30,299</td>\n",
       "      <td>3.2</td>\n",
       "      <td>6.0</td>\n",
       "      <td>270</td>\n",
       "      <td>20</td>\n",
       "      <td>28</td>\n",
       "      <td>3575</td>\n",
       "      <td>108</td>\n",
       "      <td>186</td>\n",
       "    </tr>\n",
       "    <tr>\n",
       "      <th>4</th>\n",
       "      <td>Acura</td>\n",
       "      <td>3.5 RL 4dr</td>\n",
       "      <td>Sedan</td>\n",
       "      <td>Asia</td>\n",
       "      <td>Front</td>\n",
       "      <td>43755</td>\n",
       "      <td>$39,014</td>\n",
       "      <td>3.5</td>\n",
       "      <td>6.0</td>\n",
       "      <td>225</td>\n",
       "      <td>18</td>\n",
       "      <td>24</td>\n",
       "      <td>3880</td>\n",
       "      <td>115</td>\n",
       "      <td>197</td>\n",
       "    </tr>\n",
       "    <tr>\n",
       "      <th>...</th>\n",
       "      <td>...</td>\n",
       "      <td>...</td>\n",
       "      <td>...</td>\n",
       "      <td>...</td>\n",
       "      <td>...</td>\n",
       "      <td>...</td>\n",
       "      <td>...</td>\n",
       "      <td>...</td>\n",
       "      <td>...</td>\n",
       "      <td>...</td>\n",
       "      <td>...</td>\n",
       "      <td>...</td>\n",
       "      <td>...</td>\n",
       "      <td>...</td>\n",
       "      <td>...</td>\n",
       "    </tr>\n",
       "    <tr>\n",
       "      <th>423</th>\n",
       "      <td>Volvo</td>\n",
       "      <td>C70 LPT convertible 2dr</td>\n",
       "      <td>Sedan</td>\n",
       "      <td>Europe</td>\n",
       "      <td>Front</td>\n",
       "      <td>40565</td>\n",
       "      <td>$38,203</td>\n",
       "      <td>2.4</td>\n",
       "      <td>5.0</td>\n",
       "      <td>197</td>\n",
       "      <td>21</td>\n",
       "      <td>28</td>\n",
       "      <td>3450</td>\n",
       "      <td>105</td>\n",
       "      <td>186</td>\n",
       "    </tr>\n",
       "    <tr>\n",
       "      <th>424</th>\n",
       "      <td>Volvo</td>\n",
       "      <td>C70 HPT convertible 2dr</td>\n",
       "      <td>Sedan</td>\n",
       "      <td>Europe</td>\n",
       "      <td>Front</td>\n",
       "      <td>42565</td>\n",
       "      <td>$40,083</td>\n",
       "      <td>2.3</td>\n",
       "      <td>5.0</td>\n",
       "      <td>242</td>\n",
       "      <td>20</td>\n",
       "      <td>26</td>\n",
       "      <td>3450</td>\n",
       "      <td>105</td>\n",
       "      <td>186</td>\n",
       "    </tr>\n",
       "    <tr>\n",
       "      <th>425</th>\n",
       "      <td>Volvo</td>\n",
       "      <td>S80 T6 4dr</td>\n",
       "      <td>Sedan</td>\n",
       "      <td>Europe</td>\n",
       "      <td>Front</td>\n",
       "      <td>45210</td>\n",
       "      <td>$42,573</td>\n",
       "      <td>2.9</td>\n",
       "      <td>6.0</td>\n",
       "      <td>268</td>\n",
       "      <td>19</td>\n",
       "      <td>26</td>\n",
       "      <td>3653</td>\n",
       "      <td>110</td>\n",
       "      <td>190</td>\n",
       "    </tr>\n",
       "    <tr>\n",
       "      <th>426</th>\n",
       "      <td>Volvo</td>\n",
       "      <td>V40</td>\n",
       "      <td>Wagon</td>\n",
       "      <td>Europe</td>\n",
       "      <td>Front</td>\n",
       "      <td>26135</td>\n",
       "      <td>$24,641</td>\n",
       "      <td>1.9</td>\n",
       "      <td>4.0</td>\n",
       "      <td>170</td>\n",
       "      <td>22</td>\n",
       "      <td>29</td>\n",
       "      <td>2822</td>\n",
       "      <td>101</td>\n",
       "      <td>180</td>\n",
       "    </tr>\n",
       "    <tr>\n",
       "      <th>427</th>\n",
       "      <td>Volvo</td>\n",
       "      <td>XC70</td>\n",
       "      <td>Wagon</td>\n",
       "      <td>Europe</td>\n",
       "      <td>All</td>\n",
       "      <td>35145</td>\n",
       "      <td>$33,112</td>\n",
       "      <td>2.5</td>\n",
       "      <td>5.0</td>\n",
       "      <td>208</td>\n",
       "      <td>20</td>\n",
       "      <td>27</td>\n",
       "      <td>3823</td>\n",
       "      <td>109</td>\n",
       "      <td>186</td>\n",
       "    </tr>\n",
       "  </tbody>\n",
       "</table>\n",
       "<p>428 rows × 15 columns</p>\n",
       "</div>"
      ],
      "text/plain": [
       "      Make                    Model   Type  Origin DriveTrain   MSRP  Invoice  \\\n",
       "0    Acura                      MDX    SUV    Asia        All  36945  $33,337   \n",
       "1    Acura           RSX Type S 2dr  Sedan    Asia      Front  23820  $21,761   \n",
       "2    Acura                  TSX 4dr  Sedan    Asia      Front  26990  $24,647   \n",
       "3    Acura                   TL 4dr  Sedan    Asia      Front  33195  $30,299   \n",
       "4    Acura               3.5 RL 4dr  Sedan    Asia      Front  43755  $39,014   \n",
       "..     ...                      ...    ...     ...        ...    ...      ...   \n",
       "423  Volvo  C70 LPT convertible 2dr  Sedan  Europe      Front  40565  $38,203   \n",
       "424  Volvo  C70 HPT convertible 2dr  Sedan  Europe      Front  42565  $40,083   \n",
       "425  Volvo               S80 T6 4dr  Sedan  Europe      Front  45210  $42,573   \n",
       "426  Volvo                      V40  Wagon  Europe      Front  26135  $24,641   \n",
       "427  Volvo                     XC70  Wagon  Europe        All  35145  $33,112   \n",
       "\n",
       "     EngineSize  Cylinders  Horsepower  MPG_City  MPG_Highway  Weight  \\\n",
       "0           3.5        6.0         265        17           23    4451   \n",
       "1           2.0        4.0         200        24           31    2778   \n",
       "2           2.4        4.0         200        22           29    3230   \n",
       "3           3.2        6.0         270        20           28    3575   \n",
       "4           3.5        6.0         225        18           24    3880   \n",
       "..          ...        ...         ...       ...          ...     ...   \n",
       "423         2.4        5.0         197        21           28    3450   \n",
       "424         2.3        5.0         242        20           26    3450   \n",
       "425         2.9        6.0         268        19           26    3653   \n",
       "426         1.9        4.0         170        22           29    2822   \n",
       "427         2.5        5.0         208        20           27    3823   \n",
       "\n",
       "     Wheelbase  Length  \n",
       "0          106     189  \n",
       "1          101     172  \n",
       "2          105     183  \n",
       "3          108     186  \n",
       "4          115     197  \n",
       "..         ...     ...  \n",
       "423        105     186  \n",
       "424        105     186  \n",
       "425        110     190  \n",
       "426        101     180  \n",
       "427        109     186  \n",
       "\n",
       "[428 rows x 15 columns]"
      ]
     },
     "execution_count": 39,
     "metadata": {},
     "output_type": "execute_result"
    }
   ],
   "source": [
    "df"
   ]
  },
  {
   "cell_type": "code",
   "execution_count": 40,
   "metadata": {},
   "outputs": [],
   "source": [
    "df['Invoice'] = [x.replace('$', '') for x in df['Invoice']] \n",
    "df['Invoice'] = [x.replace(',', '') for x in df['Invoice']]\n",
    "df['Invoice']=pd.to_numeric(df['Invoice'],errors='coerce')"
   ]
  },
  {
   "cell_type": "code",
   "execution_count": 41,
   "metadata": {},
   "outputs": [
    {
     "data": {
      "text/plain": [
       "Make            object\n",
       "Model           object\n",
       "Type            object\n",
       "Origin          object\n",
       "DriveTrain      object\n",
       "MSRP             int64\n",
       "Invoice          int64\n",
       "EngineSize     float64\n",
       "Cylinders      float64\n",
       "Horsepower       int64\n",
       "MPG_City         int64\n",
       "MPG_Highway      int64\n",
       "Weight           int64\n",
       "Wheelbase        int64\n",
       "Length           int64\n",
       "dtype: object"
      ]
     },
     "execution_count": 41,
     "metadata": {},
     "output_type": "execute_result"
    }
   ],
   "source": [
    "df.dtypes"
   ]
  },
  {
   "cell_type": "code",
   "execution_count": 42,
   "metadata": {},
   "outputs": [
    {
     "data": {
      "text/plain": [
       "0.16658639173798914"
      ]
     },
     "execution_count": 42,
     "metadata": {},
     "output_type": "execute_result"
    }
   ],
   "source": [
    "df['Invoice'].corr(df['Length'])"
   ]
  },
  {
   "cell_type": "code",
   "execution_count": 43,
   "metadata": {},
   "outputs": [
    {
     "name": "stderr",
     "output_type": "stream",
     "text": [
      "C:\\Users\\TALMEI~1\\AppData\\Local\\Temp/ipykernel_976/408866279.py:1: FutureWarning: The default value of numeric_only in DataFrame.corr is deprecated. In a future version, it will default to False. Select only valid columns or specify the value of numeric_only to silence this warning.\n",
      "  corr = df.corr()\n"
     ]
    },
    {
     "data": {
      "text/html": [
       "<style type=\"text/css\">\n",
       "#T_4fd30_row0_col0, #T_4fd30_row0_col1, #T_4fd30_row1_col0, #T_4fd30_row1_col1, #T_4fd30_row2_col2, #T_4fd30_row3_col3, #T_4fd30_row4_col4, #T_4fd30_row5_col5, #T_4fd30_row6_col6, #T_4fd30_row7_col7, #T_4fd30_row8_col8, #T_4fd30_row9_col9 {\n",
       "  background-color: #b40426;\n",
       "  color: #f1f1f1;\n",
       "}\n",
       "#T_4fd30_row0_col2 {\n",
       "  background-color: #f4987a;\n",
       "  color: #000000;\n",
       "}\n",
       "#T_4fd30_row0_col3, #T_4fd30_row1_col3 {\n",
       "  background-color: #ef886b;\n",
       "  color: #f1f1f1;\n",
       "}\n",
       "#T_4fd30_row0_col4, #T_4fd30_row1_col4 {\n",
       "  background-color: #d75445;\n",
       "  color: #f1f1f1;\n",
       "}\n",
       "#T_4fd30_row0_col5, #T_4fd30_row8_col6 {\n",
       "  background-color: #6a8bef;\n",
       "  color: #f1f1f1;\n",
       "}\n",
       "#T_4fd30_row0_col6, #T_4fd30_row1_col6 {\n",
       "  background-color: #7a9df8;\n",
       "  color: #f1f1f1;\n",
       "}\n",
       "#T_4fd30_row0_col7 {\n",
       "  background-color: #f7af91;\n",
       "  color: #000000;\n",
       "}\n",
       "#T_4fd30_row0_col8, #T_4fd30_row1_col9 {\n",
       "  background-color: #cdd9ec;\n",
       "  color: #000000;\n",
       "}\n",
       "#T_4fd30_row0_col9 {\n",
       "  background-color: #cedaeb;\n",
       "  color: #000000;\n",
       "}\n",
       "#T_4fd30_row1_col2 {\n",
       "  background-color: #f49a7b;\n",
       "  color: #000000;\n",
       "}\n",
       "#T_4fd30_row1_col5 {\n",
       "  background-color: #6b8df0;\n",
       "  color: #f1f1f1;\n",
       "}\n",
       "#T_4fd30_row1_col7 {\n",
       "  background-color: #f7b093;\n",
       "  color: #000000;\n",
       "}\n",
       "#T_4fd30_row1_col8, #T_4fd30_row9_col0 {\n",
       "  background-color: #ccd9ed;\n",
       "  color: #000000;\n",
       "}\n",
       "#T_4fd30_row2_col0 {\n",
       "  background-color: #f7a98b;\n",
       "  color: #000000;\n",
       "}\n",
       "#T_4fd30_row2_col1 {\n",
       "  background-color: #f7aa8c;\n",
       "  color: #000000;\n",
       "}\n",
       "#T_4fd30_row2_col3, #T_4fd30_row3_col2 {\n",
       "  background-color: #c73635;\n",
       "  color: #f1f1f1;\n",
       "}\n",
       "#T_4fd30_row2_col4 {\n",
       "  background-color: #de614d;\n",
       "  color: #f1f1f1;\n",
       "}\n",
       "#T_4fd30_row2_col5, #T_4fd30_row6_col4 {\n",
       "  background-color: #3f53c6;\n",
       "  color: #f1f1f1;\n",
       "}\n",
       "#T_4fd30_row2_col6 {\n",
       "  background-color: #465ecf;\n",
       "  color: #f1f1f1;\n",
       "}\n",
       "#T_4fd30_row2_col7 {\n",
       "  background-color: #d85646;\n",
       "  color: #f1f1f1;\n",
       "}\n",
       "#T_4fd30_row2_col8, #T_4fd30_row2_col9, #T_4fd30_row3_col1 {\n",
       "  background-color: #f39577;\n",
       "  color: #000000;\n",
       "}\n",
       "#T_4fd30_row3_col0 {\n",
       "  background-color: #f39475;\n",
       "  color: #000000;\n",
       "}\n",
       "#T_4fd30_row3_col4, #T_4fd30_row4_col3, #T_4fd30_row7_col2 {\n",
       "  background-color: #d95847;\n",
       "  color: #f1f1f1;\n",
       "}\n",
       "#T_4fd30_row3_col5, #T_4fd30_row5_col7 {\n",
       "  background-color: #4358cb;\n",
       "  color: #f1f1f1;\n",
       "}\n",
       "#T_4fd30_row3_col6 {\n",
       "  background-color: #4e68d8;\n",
       "  color: #f1f1f1;\n",
       "}\n",
       "#T_4fd30_row3_col7 {\n",
       "  background-color: #e26952;\n",
       "  color: #f1f1f1;\n",
       "}\n",
       "#T_4fd30_row3_col8 {\n",
       "  background-color: #f7ac8e;\n",
       "  color: #000000;\n",
       "}\n",
       "#T_4fd30_row3_col9 {\n",
       "  background-color: #f7ad90;\n",
       "  color: #000000;\n",
       "}\n",
       "#T_4fd30_row4_col0, #T_4fd30_row4_col1 {\n",
       "  background-color: #dc5d4a;\n",
       "  color: #f1f1f1;\n",
       "}\n",
       "#T_4fd30_row4_col2 {\n",
       "  background-color: #dd5f4b;\n",
       "  color: #f1f1f1;\n",
       "}\n",
       "#T_4fd30_row4_col5 {\n",
       "  background-color: #455cce;\n",
       "  color: #f1f1f1;\n",
       "}\n",
       "#T_4fd30_row4_col6 {\n",
       "  background-color: #536edd;\n",
       "  color: #f1f1f1;\n",
       "}\n",
       "#T_4fd30_row4_col7, #T_4fd30_row7_col9 {\n",
       "  background-color: #ee8669;\n",
       "  color: #f1f1f1;\n",
       "}\n",
       "#T_4fd30_row4_col8 {\n",
       "  background-color: #f2cbb7;\n",
       "  color: #000000;\n",
       "}\n",
       "#T_4fd30_row4_col9 {\n",
       "  background-color: #f0cdbb;\n",
       "  color: #000000;\n",
       "}\n",
       "#T_4fd30_row5_col0, #T_4fd30_row5_col1, #T_4fd30_row5_col3, #T_4fd30_row5_col4, #T_4fd30_row5_col9, #T_4fd30_row6_col2, #T_4fd30_row6_col7, #T_4fd30_row6_col8, #T_4fd30_row7_col5, #T_4fd30_row7_col6 {\n",
       "  background-color: #3b4cc0;\n",
       "  color: #f1f1f1;\n",
       "}\n",
       "#T_4fd30_row5_col2, #T_4fd30_row6_col3 {\n",
       "  background-color: #3c4ec2;\n",
       "  color: #f1f1f1;\n",
       "}\n",
       "#T_4fd30_row5_col6, #T_4fd30_row6_col5 {\n",
       "  background-color: #c0282f;\n",
       "  color: #f1f1f1;\n",
       "}\n",
       "#T_4fd30_row5_col8 {\n",
       "  background-color: #3d50c3;\n",
       "  color: #f1f1f1;\n",
       "}\n",
       "#T_4fd30_row6_col0, #T_4fd30_row6_col1, #T_4fd30_row6_col9 {\n",
       "  background-color: #4257c9;\n",
       "  color: #f1f1f1;\n",
       "}\n",
       "#T_4fd30_row7_col0 {\n",
       "  background-color: #f5c4ac;\n",
       "  color: #000000;\n",
       "}\n",
       "#T_4fd30_row7_col1 {\n",
       "  background-color: #f4c6af;\n",
       "  color: #000000;\n",
       "}\n",
       "#T_4fd30_row7_col3 {\n",
       "  background-color: #e46e56;\n",
       "  color: #f1f1f1;\n",
       "}\n",
       "#T_4fd30_row7_col4 {\n",
       "  background-color: #f18d6f;\n",
       "  color: #f1f1f1;\n",
       "}\n",
       "#T_4fd30_row7_col8 {\n",
       "  background-color: #e57058;\n",
       "  color: #f1f1f1;\n",
       "}\n",
       "#T_4fd30_row8_col0 {\n",
       "  background-color: #c7d7f0;\n",
       "  color: #000000;\n",
       "}\n",
       "#T_4fd30_row8_col1 {\n",
       "  background-color: #c6d6f1;\n",
       "  color: #000000;\n",
       "}\n",
       "#T_4fd30_row8_col2, #T_4fd30_row9_col2 {\n",
       "  background-color: #f08a6c;\n",
       "  color: #f1f1f1;\n",
       "}\n",
       "#T_4fd30_row8_col3, #T_4fd30_row9_col3 {\n",
       "  background-color: #f5a081;\n",
       "  color: #000000;\n",
       "}\n",
       "#T_4fd30_row8_col4 {\n",
       "  background-color: #f5c1a9;\n",
       "  color: #000000;\n",
       "}\n",
       "#T_4fd30_row8_col5 {\n",
       "  background-color: #6384eb;\n",
       "  color: #f1f1f1;\n",
       "}\n",
       "#T_4fd30_row8_col7 {\n",
       "  background-color: #e0654f;\n",
       "  color: #f1f1f1;\n",
       "}\n",
       "#T_4fd30_row8_col9, #T_4fd30_row9_col8 {\n",
       "  background-color: #cd423b;\n",
       "  color: #f1f1f1;\n",
       "}\n",
       "#T_4fd30_row9_col1 {\n",
       "  background-color: #cad8ef;\n",
       "  color: #000000;\n",
       "}\n",
       "#T_4fd30_row9_col4 {\n",
       "  background-color: #f5c2aa;\n",
       "  color: #000000;\n",
       "}\n",
       "#T_4fd30_row9_col5 {\n",
       "  background-color: #6485ec;\n",
       "  color: #f1f1f1;\n",
       "}\n",
       "#T_4fd30_row9_col6 {\n",
       "  background-color: #7597f6;\n",
       "  color: #f1f1f1;\n",
       "}\n",
       "#T_4fd30_row9_col7 {\n",
       "  background-color: #e9785d;\n",
       "  color: #f1f1f1;\n",
       "}\n",
       "</style>\n",
       "<table id=\"T_4fd30\">\n",
       "  <thead>\n",
       "    <tr>\n",
       "      <th class=\"blank level0\" >&nbsp;</th>\n",
       "      <th id=\"T_4fd30_level0_col0\" class=\"col_heading level0 col0\" >MSRP</th>\n",
       "      <th id=\"T_4fd30_level0_col1\" class=\"col_heading level0 col1\" >Invoice</th>\n",
       "      <th id=\"T_4fd30_level0_col2\" class=\"col_heading level0 col2\" >EngineSize</th>\n",
       "      <th id=\"T_4fd30_level0_col3\" class=\"col_heading level0 col3\" >Cylinders</th>\n",
       "      <th id=\"T_4fd30_level0_col4\" class=\"col_heading level0 col4\" >Horsepower</th>\n",
       "      <th id=\"T_4fd30_level0_col5\" class=\"col_heading level0 col5\" >MPG_City</th>\n",
       "      <th id=\"T_4fd30_level0_col6\" class=\"col_heading level0 col6\" >MPG_Highway</th>\n",
       "      <th id=\"T_4fd30_level0_col7\" class=\"col_heading level0 col7\" >Weight</th>\n",
       "      <th id=\"T_4fd30_level0_col8\" class=\"col_heading level0 col8\" >Wheelbase</th>\n",
       "      <th id=\"T_4fd30_level0_col9\" class=\"col_heading level0 col9\" >Length</th>\n",
       "    </tr>\n",
       "  </thead>\n",
       "  <tbody>\n",
       "    <tr>\n",
       "      <th id=\"T_4fd30_level0_row0\" class=\"row_heading level0 row0\" >MSRP</th>\n",
       "      <td id=\"T_4fd30_row0_col0\" class=\"data row0 col0\" >1.000000</td>\n",
       "      <td id=\"T_4fd30_row0_col1\" class=\"data row0 col1\" >0.999132</td>\n",
       "      <td id=\"T_4fd30_row0_col2\" class=\"data row0 col2\" >0.571753</td>\n",
       "      <td id=\"T_4fd30_row0_col3\" class=\"data row0 col3\" >0.649742</td>\n",
       "      <td id=\"T_4fd30_row0_col4\" class=\"data row0 col4\" >0.826945</td>\n",
       "      <td id=\"T_4fd30_row0_col5\" class=\"data row0 col5\" >-0.475020</td>\n",
       "      <td id=\"T_4fd30_row0_col6\" class=\"data row0 col6\" >-0.439622</td>\n",
       "      <td id=\"T_4fd30_row0_col7\" class=\"data row0 col7\" >0.448426</td>\n",
       "      <td id=\"T_4fd30_row0_col8\" class=\"data row0 col8\" >0.152000</td>\n",
       "      <td id=\"T_4fd30_row0_col9\" class=\"data row0 col9\" >0.172037</td>\n",
       "    </tr>\n",
       "    <tr>\n",
       "      <th id=\"T_4fd30_level0_row1\" class=\"row_heading level0 row1\" >Invoice</th>\n",
       "      <td id=\"T_4fd30_row1_col0\" class=\"data row1 col0\" >0.999132</td>\n",
       "      <td id=\"T_4fd30_row1_col1\" class=\"data row1 col1\" >1.000000</td>\n",
       "      <td id=\"T_4fd30_row1_col2\" class=\"data row1 col2\" >0.564498</td>\n",
       "      <td id=\"T_4fd30_row1_col3\" class=\"data row1 col3\" >0.645226</td>\n",
       "      <td id=\"T_4fd30_row1_col4\" class=\"data row1 col4\" >0.823746</td>\n",
       "      <td id=\"T_4fd30_row1_col5\" class=\"data row1 col5\" >-0.470442</td>\n",
       "      <td id=\"T_4fd30_row1_col6\" class=\"data row1 col6\" >-0.434585</td>\n",
       "      <td id=\"T_4fd30_row1_col7\" class=\"data row1 col7\" >0.442332</td>\n",
       "      <td id=\"T_4fd30_row1_col8\" class=\"data row1 col8\" >0.148328</td>\n",
       "      <td id=\"T_4fd30_row1_col9\" class=\"data row1 col9\" >0.166586</td>\n",
       "    </tr>\n",
       "    <tr>\n",
       "      <th id=\"T_4fd30_level0_row2\" class=\"row_heading level0 row2\" >EngineSize</th>\n",
       "      <td id=\"T_4fd30_row2_col0\" class=\"data row2 col0\" >0.571753</td>\n",
       "      <td id=\"T_4fd30_row2_col1\" class=\"data row2 col1\" >0.564498</td>\n",
       "      <td id=\"T_4fd30_row2_col2\" class=\"data row2 col2\" >1.000000</td>\n",
       "      <td id=\"T_4fd30_row2_col3\" class=\"data row2 col3\" >0.908002</td>\n",
       "      <td id=\"T_4fd30_row2_col4\" class=\"data row2 col4\" >0.787435</td>\n",
       "      <td id=\"T_4fd30_row2_col5\" class=\"data row2 col5\" >-0.709471</td>\n",
       "      <td id=\"T_4fd30_row2_col6\" class=\"data row2 col6\" >-0.717302</td>\n",
       "      <td id=\"T_4fd30_row2_col7\" class=\"data row2 col7\" >0.807867</td>\n",
       "      <td id=\"T_4fd30_row2_col8\" class=\"data row2 col8\" >0.636517</td>\n",
       "      <td id=\"T_4fd30_row2_col9\" class=\"data row2 col9\" >0.637448</td>\n",
       "    </tr>\n",
       "    <tr>\n",
       "      <th id=\"T_4fd30_level0_row3\" class=\"row_heading level0 row3\" >Cylinders</th>\n",
       "      <td id=\"T_4fd30_row3_col0\" class=\"data row3 col0\" >0.649742</td>\n",
       "      <td id=\"T_4fd30_row3_col1\" class=\"data row3 col1\" >0.645226</td>\n",
       "      <td id=\"T_4fd30_row3_col2\" class=\"data row3 col2\" >0.908002</td>\n",
       "      <td id=\"T_4fd30_row3_col3\" class=\"data row3 col3\" >1.000000</td>\n",
       "      <td id=\"T_4fd30_row3_col4\" class=\"data row3 col4\" >0.810341</td>\n",
       "      <td id=\"T_4fd30_row3_col5\" class=\"data row3 col5\" >-0.684402</td>\n",
       "      <td id=\"T_4fd30_row3_col6\" class=\"data row3 col6\" >-0.676100</td>\n",
       "      <td id=\"T_4fd30_row3_col7\" class=\"data row3 col7\" >0.742209</td>\n",
       "      <td id=\"T_4fd30_row3_col8\" class=\"data row3 col8\" >0.546730</td>\n",
       "      <td id=\"T_4fd30_row3_col9\" class=\"data row3 col9\" >0.547783</td>\n",
       "    </tr>\n",
       "    <tr>\n",
       "      <th id=\"T_4fd30_level0_row4\" class=\"row_heading level0 row4\" >Horsepower</th>\n",
       "      <td id=\"T_4fd30_row4_col0\" class=\"data row4 col0\" >0.826945</td>\n",
       "      <td id=\"T_4fd30_row4_col1\" class=\"data row4 col1\" >0.823746</td>\n",
       "      <td id=\"T_4fd30_row4_col2\" class=\"data row4 col2\" >0.787435</td>\n",
       "      <td id=\"T_4fd30_row4_col3\" class=\"data row4 col3\" >0.810341</td>\n",
       "      <td id=\"T_4fd30_row4_col4\" class=\"data row4 col4\" >1.000000</td>\n",
       "      <td id=\"T_4fd30_row4_col5\" class=\"data row4 col5\" >-0.676699</td>\n",
       "      <td id=\"T_4fd30_row4_col6\" class=\"data row4 col6\" >-0.647195</td>\n",
       "      <td id=\"T_4fd30_row4_col7\" class=\"data row4 col7\" >0.630796</td>\n",
       "      <td id=\"T_4fd30_row4_col8\" class=\"data row4 col8\" >0.387398</td>\n",
       "      <td id=\"T_4fd30_row4_col9\" class=\"data row4 col9\" >0.381554</td>\n",
       "    </tr>\n",
       "    <tr>\n",
       "      <th id=\"T_4fd30_level0_row5\" class=\"row_heading level0 row5\" >MPG_City</th>\n",
       "      <td id=\"T_4fd30_row5_col0\" class=\"data row5 col0\" >-0.475020</td>\n",
       "      <td id=\"T_4fd30_row5_col1\" class=\"data row5 col1\" >-0.470442</td>\n",
       "      <td id=\"T_4fd30_row5_col2\" class=\"data row5 col2\" >-0.709471</td>\n",
       "      <td id=\"T_4fd30_row5_col3\" class=\"data row5 col3\" >-0.684402</td>\n",
       "      <td id=\"T_4fd30_row5_col4\" class=\"data row5 col4\" >-0.676699</td>\n",
       "      <td id=\"T_4fd30_row5_col5\" class=\"data row5 col5\" >1.000000</td>\n",
       "      <td id=\"T_4fd30_row5_col6\" class=\"data row5 col6\" >0.941021</td>\n",
       "      <td id=\"T_4fd30_row5_col7\" class=\"data row5 col7\" >-0.737966</td>\n",
       "      <td id=\"T_4fd30_row5_col8\" class=\"data row5 col8\" >-0.507284</td>\n",
       "      <td id=\"T_4fd30_row5_col9\" class=\"data row5 col9\" >-0.501526</td>\n",
       "    </tr>\n",
       "    <tr>\n",
       "      <th id=\"T_4fd30_level0_row6\" class=\"row_heading level0 row6\" >MPG_Highway</th>\n",
       "      <td id=\"T_4fd30_row6_col0\" class=\"data row6 col0\" >-0.439622</td>\n",
       "      <td id=\"T_4fd30_row6_col1\" class=\"data row6 col1\" >-0.434585</td>\n",
       "      <td id=\"T_4fd30_row6_col2\" class=\"data row6 col2\" >-0.717302</td>\n",
       "      <td id=\"T_4fd30_row6_col3\" class=\"data row6 col3\" >-0.676100</td>\n",
       "      <td id=\"T_4fd30_row6_col4\" class=\"data row6 col4\" >-0.647195</td>\n",
       "      <td id=\"T_4fd30_row6_col5\" class=\"data row6 col5\" >0.941021</td>\n",
       "      <td id=\"T_4fd30_row6_col6\" class=\"data row6 col6\" >1.000000</td>\n",
       "      <td id=\"T_4fd30_row6_col7\" class=\"data row6 col7\" >-0.790989</td>\n",
       "      <td id=\"T_4fd30_row6_col8\" class=\"data row6 col8\" >-0.524661</td>\n",
       "      <td id=\"T_4fd30_row6_col9\" class=\"data row6 col9\" >-0.466092</td>\n",
       "    </tr>\n",
       "    <tr>\n",
       "      <th id=\"T_4fd30_level0_row7\" class=\"row_heading level0 row7\" >Weight</th>\n",
       "      <td id=\"T_4fd30_row7_col0\" class=\"data row7 col0\" >0.448426</td>\n",
       "      <td id=\"T_4fd30_row7_col1\" class=\"data row7 col1\" >0.442332</td>\n",
       "      <td id=\"T_4fd30_row7_col2\" class=\"data row7 col2\" >0.807867</td>\n",
       "      <td id=\"T_4fd30_row7_col3\" class=\"data row7 col3\" >0.742209</td>\n",
       "      <td id=\"T_4fd30_row7_col4\" class=\"data row7 col4\" >0.630796</td>\n",
       "      <td id=\"T_4fd30_row7_col5\" class=\"data row7 col5\" >-0.737966</td>\n",
       "      <td id=\"T_4fd30_row7_col6\" class=\"data row7 col6\" >-0.790989</td>\n",
       "      <td id=\"T_4fd30_row7_col7\" class=\"data row7 col7\" >1.000000</td>\n",
       "      <td id=\"T_4fd30_row7_col8\" class=\"data row7 col8\" >0.760703</td>\n",
       "      <td id=\"T_4fd30_row7_col9\" class=\"data row7 col9\" >0.690021</td>\n",
       "    </tr>\n",
       "    <tr>\n",
       "      <th id=\"T_4fd30_level0_row8\" class=\"row_heading level0 row8\" >Wheelbase</th>\n",
       "      <td id=\"T_4fd30_row8_col0\" class=\"data row8 col0\" >0.152000</td>\n",
       "      <td id=\"T_4fd30_row8_col1\" class=\"data row8 col1\" >0.148328</td>\n",
       "      <td id=\"T_4fd30_row8_col2\" class=\"data row8 col2\" >0.636517</td>\n",
       "      <td id=\"T_4fd30_row8_col3\" class=\"data row8 col3\" >0.546730</td>\n",
       "      <td id=\"T_4fd30_row8_col4\" class=\"data row8 col4\" >0.387398</td>\n",
       "      <td id=\"T_4fd30_row8_col5\" class=\"data row8 col5\" >-0.507284</td>\n",
       "      <td id=\"T_4fd30_row8_col6\" class=\"data row8 col6\" >-0.524661</td>\n",
       "      <td id=\"T_4fd30_row8_col7\" class=\"data row8 col7\" >0.760703</td>\n",
       "      <td id=\"T_4fd30_row8_col8\" class=\"data row8 col8\" >1.000000</td>\n",
       "      <td id=\"T_4fd30_row8_col9\" class=\"data row8 col9\" >0.889195</td>\n",
       "    </tr>\n",
       "    <tr>\n",
       "      <th id=\"T_4fd30_level0_row9\" class=\"row_heading level0 row9\" >Length</th>\n",
       "      <td id=\"T_4fd30_row9_col0\" class=\"data row9 col0\" >0.172037</td>\n",
       "      <td id=\"T_4fd30_row9_col1\" class=\"data row9 col1\" >0.166586</td>\n",
       "      <td id=\"T_4fd30_row9_col2\" class=\"data row9 col2\" >0.637448</td>\n",
       "      <td id=\"T_4fd30_row9_col3\" class=\"data row9 col3\" >0.547783</td>\n",
       "      <td id=\"T_4fd30_row9_col4\" class=\"data row9 col4\" >0.381554</td>\n",
       "      <td id=\"T_4fd30_row9_col5\" class=\"data row9 col5\" >-0.501526</td>\n",
       "      <td id=\"T_4fd30_row9_col6\" class=\"data row9 col6\" >-0.466092</td>\n",
       "      <td id=\"T_4fd30_row9_col7\" class=\"data row9 col7\" >0.690021</td>\n",
       "      <td id=\"T_4fd30_row9_col8\" class=\"data row9 col8\" >0.889195</td>\n",
       "      <td id=\"T_4fd30_row9_col9\" class=\"data row9 col9\" >1.000000</td>\n",
       "    </tr>\n",
       "  </tbody>\n",
       "</table>\n"
      ],
      "text/plain": [
       "<pandas.io.formats.style.Styler at 0x1fcbc9f48b0>"
      ]
     },
     "execution_count": 43,
     "metadata": {},
     "output_type": "execute_result"
    }
   ],
   "source": [
    "corr = df.corr()\n",
    "corr.style.background_gradient(cmap = 'coolwarm')"
   ]
  }
 ],
 "metadata": {
  "colab": {
   "authorship_tag": "ABX9TyO/g9u/vOrfXXAZDkPPjTtg",
   "collapsed_sections": [
    "0P0vlEpViPk5"
   ],
   "name": "estatística-descritiva-02.ipynb",
   "provenance": []
  },
  "kernelspec": {
   "display_name": "base",
   "language": "python",
   "name": "python3"
  },
  "language_info": {
   "codemirror_mode": {
    "name": "ipython",
    "version": 3
   },
   "file_extension": ".py",
   "mimetype": "text/x-python",
   "name": "python",
   "nbconvert_exporter": "python",
   "pygments_lexer": "ipython3",
   "version": "3.9.7"
  }
 },
 "nbformat": 4,
 "nbformat_minor": 0
}
